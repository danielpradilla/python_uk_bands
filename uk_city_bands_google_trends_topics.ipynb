{
 "cells": [
  {
   "cell_type": "markdown",
   "id": "4f147b85",
   "metadata": {},
   "source": [
    "# 🎶 UK City Bands – Google Trends Analysis (2019–2024)\n",
    "This notebook explores search interest in key UK bands by city of origin, using Google Trends data from the past 5 years. Each band's popularity is normalized using **The Beatles** as a reference anchor.\n",
    "\n",
    "Cities included: London, Birmingham, Manchester, Glasgow, Liverpool, Leeds, Sheffield, Bradford, Bristol, Nottingham."
   ]
  },
  {
   "cell_type": "code",
   "execution_count": 1,
   "id": "2a31bf74",
   "metadata": {},
   "outputs": [],
   "source": [
    "from pytrends.request import TrendReq\n",
    "import pandas as pd\n",
    "import time\n",
    "import matplotlib.pyplot as plt"
   ]
  },
  {
   "cell_type": "code",
   "execution_count": 2,
   "id": "8bda9276",
   "metadata": {},
   "outputs": [],
   "source": [
    "# 🔁 Extract band list from city dictionary\n",
    "bands_by_city = {\n",
    "    \"London\": [\"The Rolling Stones\", \"The Clash\", \"Blur\", \"Coldplay\", \"Florence and the Machine\"],\n",
    "    \"Birmingham\": [\"Black Sabbath\", \"ELO\", \"Duran Duran\", \"UB40\", \"Editors\"],\n",
    "    \"Manchester\": [\"Oasis\", \"The Smiths\", \"New Order\", \"The Stone Roses\", \"The 1975\"],\n",
    "    \"Glasgow\": [\"Simple Minds\", \"Primal Scream\", \"Belle and Sebastian\", \"Franz Ferdinand\", \"CHVRCHES\"],\n",
    "    \"Liverpool\": [\"The Beatles\", \"Echo & the Bunnymen\", \"Frankie Goes to Hollywood\", \"The La's\", \"The Wombats\"],\n",
    "    \"Leeds\": [\"Kaiser Chiefs\", \"Soft Cell\", \"Alt-J\", \"Sisters of Mercy\", \"The Wedding Present\"],\n",
    "    \"Sheffield\": [\"Def Leppard\", \"The Human League\", \"Pulp\", \"Arctic Monkeys\", \"Bring Me The Horizon\"],\n",
    "    \"Bradford\": [\"Smokie\", \"Tasmin Archer\", \"Kiki Dee\", \"Ivyrise\", \"The Cult\"],\n",
    "    \"Bristol\": [\"Massive Attack\", \"Portishead\", \"Tricky\", \"Idles\", \"Kosheen\"],\n",
    "    \"Nottingham\": [\"Jake Bugg\", \"Dog Is Dead\", \"London Grammar\", \"Ten Years After\", \"Sleaford Mods\"]\n",
    "}\n",
    "all_bands = sorted(set(b for bands in bands_by_city.values() for b in bands))"
   ]
  },
  {
   "cell_type": "markdown",
   "id": "cecb66e3",
   "metadata": {},
   "source": [
    "## 🎯 Using Google Trends Topics Instead of Search Terms\n",
    "To improve the accuracy of our comparisons, we now fetch each band using its **Google Trends Topic ID (mid)**. This avoids ambiguity with band names that may have other meanings (like *Pulp* or *Editors*).\n",
    "\n",
    "We'll use `pytrends.suggestions()` to look up the canonical topic for each band before fetching trend data."
   ]
  },
  {
   "cell_type": "code",
   "execution_count": null,
   "id": "e621c3aa",
   "metadata": {},
   "outputs": [
    {
     "name": "stdout",
     "output_type": "stream",
     "text": [
      "⚠️ No topic found for Alt-J\n",
      "⚠️ No topic found for Arctic Monkeys\n",
      "⚠️ No topic found for Belle and Sebastian\n",
      "⚠️ No topic found for Black Sabbath\n"
     ]
    },
    {
     "ename": "KeyboardInterrupt",
     "evalue": "",
     "output_type": "error",
     "traceback": [
      "\u001b[31m---------------------------------------------------------------------------\u001b[39m",
      "\u001b[31mKeyboardInterrupt\u001b[39m                         Traceback (most recent call last)",
      "\u001b[36mCell\u001b[39m\u001b[36m \u001b[39m\u001b[32mIn[10]\u001b[39m\u001b[32m, line 21\u001b[39m\n\u001b[32m     19\u001b[39m band_topics = {}\n\u001b[32m     20\u001b[39m \u001b[38;5;28;01mfor\u001b[39;00m band \u001b[38;5;129;01min\u001b[39;00m all_bands:\n\u001b[32m---> \u001b[39m\u001b[32m21\u001b[39m     suggestions = \u001b[43mpytrends\u001b[49m\u001b[43m.\u001b[49m\u001b[43msuggestions\u001b[49m\u001b[43m(\u001b[49m\u001b[43mband\u001b[49m\u001b[43m)\u001b[49m\n\u001b[32m     22\u001b[39m     match = \u001b[38;5;28mnext\u001b[39m((s \u001b[38;5;28;01mfor\u001b[39;00m s \u001b[38;5;129;01min\u001b[39;00m suggestions \u001b[38;5;28;01mif\u001b[39;00m s[\u001b[33m'\u001b[39m\u001b[33mtype\u001b[39m\u001b[33m'\u001b[39m].lower() == \u001b[33m'\u001b[39m\u001b[33mband\u001b[39m\u001b[33m'\u001b[39m), \u001b[38;5;28;01mNone\u001b[39;00m)\n\u001b[32m     23\u001b[39m     time.sleep(\u001b[32m0.5\u001b[39m)\n",
      "\u001b[36mFile \u001b[39m\u001b[32m~/dev/python_uk_bands/venv/lib/python3.13/site-packages/pytrends/request.py:566\u001b[39m, in \u001b[36mTrendReq.suggestions\u001b[39m\u001b[34m(self, keyword)\u001b[39m\n\u001b[32m    563\u001b[39m kw_param = quote(keyword)\n\u001b[32m    564\u001b[39m parameters = {\u001b[33m'\u001b[39m\u001b[33mhl\u001b[39m\u001b[33m'\u001b[39m: \u001b[38;5;28mself\u001b[39m.hl}\n\u001b[32m--> \u001b[39m\u001b[32m566\u001b[39m req_json = \u001b[38;5;28;43mself\u001b[39;49m\u001b[43m.\u001b[49m\u001b[43m_get_data\u001b[49m\u001b[43m(\u001b[49m\n\u001b[32m    567\u001b[39m \u001b[43m    \u001b[49m\u001b[43murl\u001b[49m\u001b[43m=\u001b[49m\u001b[43mTrendReq\u001b[49m\u001b[43m.\u001b[49m\u001b[43mSUGGESTIONS_URL\u001b[49m\u001b[43m \u001b[49m\u001b[43m+\u001b[49m\u001b[43m \u001b[49m\u001b[43mkw_param\u001b[49m\u001b[43m,\u001b[49m\n\u001b[32m    568\u001b[39m \u001b[43m    \u001b[49m\u001b[43mparams\u001b[49m\u001b[43m=\u001b[49m\u001b[43mparameters\u001b[49m\u001b[43m,\u001b[49m\n\u001b[32m    569\u001b[39m \u001b[43m    \u001b[49m\u001b[43mmethod\u001b[49m\u001b[43m=\u001b[49m\u001b[43mTrendReq\u001b[49m\u001b[43m.\u001b[49m\u001b[43mGET_METHOD\u001b[49m\u001b[43m,\u001b[49m\n\u001b[32m    570\u001b[39m \u001b[43m    \u001b[49m\u001b[43mtrim_chars\u001b[49m\u001b[43m=\u001b[49m\u001b[32;43m5\u001b[39;49m\n\u001b[32m    571\u001b[39m \u001b[43m\u001b[49m\u001b[43m)\u001b[49m[\u001b[33m'\u001b[39m\u001b[33mdefault\u001b[39m\u001b[33m'\u001b[39m][\u001b[33m'\u001b[39m\u001b[33mtopics\u001b[39m\u001b[33m'\u001b[39m]\n\u001b[32m    572\u001b[39m \u001b[38;5;28;01mreturn\u001b[39;00m req_json\n",
      "\u001b[36mFile \u001b[39m\u001b[32m~/dev/python_uk_bands/venv/lib/python3.13/site-packages/pytrends/request.py:140\u001b[39m, in \u001b[36mTrendReq._get_data\u001b[39m\u001b[34m(self, url, method, trim_chars, **kwargs)\u001b[39m\n\u001b[32m    136\u001b[39m     response = s.post(url, timeout=\u001b[38;5;28mself\u001b[39m.timeout,\n\u001b[32m    137\u001b[39m                       cookies=\u001b[38;5;28mself\u001b[39m.cookies, **kwargs,\n\u001b[32m    138\u001b[39m                       **\u001b[38;5;28mself\u001b[39m.requests_args)  \u001b[38;5;66;03m# DO NOT USE retries or backoff_factor here\u001b[39;00m\n\u001b[32m    139\u001b[39m \u001b[38;5;28;01melse\u001b[39;00m:\n\u001b[32m--> \u001b[39m\u001b[32m140\u001b[39m     response = \u001b[43ms\u001b[49m\u001b[43m.\u001b[49m\u001b[43mget\u001b[49m\u001b[43m(\u001b[49m\u001b[43murl\u001b[49m\u001b[43m,\u001b[49m\u001b[43m \u001b[49m\u001b[43mtimeout\u001b[49m\u001b[43m=\u001b[49m\u001b[38;5;28;43mself\u001b[39;49m\u001b[43m.\u001b[49m\u001b[43mtimeout\u001b[49m\u001b[43m,\u001b[49m\u001b[43m \u001b[49m\u001b[43mcookies\u001b[49m\u001b[43m=\u001b[49m\u001b[38;5;28;43mself\u001b[39;49m\u001b[43m.\u001b[49m\u001b[43mcookies\u001b[49m\u001b[43m,\u001b[49m\n\u001b[32m    141\u001b[39m \u001b[43m                     \u001b[49m\u001b[43m*\u001b[49m\u001b[43m*\u001b[49m\u001b[43mkwargs\u001b[49m\u001b[43m,\u001b[49m\u001b[43m \u001b[49m\u001b[43m*\u001b[49m\u001b[43m*\u001b[49m\u001b[38;5;28;43mself\u001b[39;49m\u001b[43m.\u001b[49m\u001b[43mrequests_args\u001b[49m\u001b[43m)\u001b[49m  \u001b[38;5;66;03m# DO NOT USE retries or backoff_factor here\u001b[39;00m\n\u001b[32m    142\u001b[39m \u001b[38;5;66;03m# check if the response contains json and throw an exception otherwise\u001b[39;00m\n\u001b[32m    143\u001b[39m \u001b[38;5;66;03m# Google mostly sends 'application/json' in the Content-Type header,\u001b[39;00m\n\u001b[32m    144\u001b[39m \u001b[38;5;66;03m# but occasionally it sends 'application/javascript\u001b[39;00m\n\u001b[32m    145\u001b[39m \u001b[38;5;66;03m# and sometimes even 'text/javascript\u001b[39;00m\n\u001b[32m    146\u001b[39m \u001b[38;5;28;01mif\u001b[39;00m response.status_code == \u001b[32m200\u001b[39m \u001b[38;5;129;01mand\u001b[39;00m \u001b[33m'\u001b[39m\u001b[33mapplication/json\u001b[39m\u001b[33m'\u001b[39m \u001b[38;5;129;01min\u001b[39;00m \\\n\u001b[32m    147\u001b[39m         response.headers[\u001b[33m'\u001b[39m\u001b[33mContent-Type\u001b[39m\u001b[33m'\u001b[39m] \u001b[38;5;129;01mor\u001b[39;00m \\\n\u001b[32m    148\u001b[39m         \u001b[33m'\u001b[39m\u001b[33mapplication/javascript\u001b[39m\u001b[33m'\u001b[39m \u001b[38;5;129;01min\u001b[39;00m response.headers[\u001b[33m'\u001b[39m\u001b[33mContent-Type\u001b[39m\u001b[33m'\u001b[39m] \u001b[38;5;129;01mor\u001b[39;00m \\\n\u001b[32m   (...)\u001b[39m\u001b[32m    151\u001b[39m     \u001b[38;5;66;03m# some responses start with garbage characters, like \")]}',\"\u001b[39;00m\n\u001b[32m    152\u001b[39m     \u001b[38;5;66;03m# these have to be cleaned before being passed to the json parser\u001b[39;00m\n",
      "\u001b[36mFile \u001b[39m\u001b[32m~/dev/python_uk_bands/venv/lib/python3.13/site-packages/requests/sessions.py:602\u001b[39m, in \u001b[36mSession.get\u001b[39m\u001b[34m(self, url, **kwargs)\u001b[39m\n\u001b[32m    594\u001b[39m \u001b[38;5;250m\u001b[39m\u001b[33mr\u001b[39m\u001b[33;03m\"\"\"Sends a GET request. Returns :class:`Response` object.\u001b[39;00m\n\u001b[32m    595\u001b[39m \n\u001b[32m    596\u001b[39m \u001b[33;03m:param url: URL for the new :class:`Request` object.\u001b[39;00m\n\u001b[32m    597\u001b[39m \u001b[33;03m:param \\*\\*kwargs: Optional arguments that ``request`` takes.\u001b[39;00m\n\u001b[32m    598\u001b[39m \u001b[33;03m:rtype: requests.Response\u001b[39;00m\n\u001b[32m    599\u001b[39m \u001b[33;03m\"\"\"\u001b[39;00m\n\u001b[32m    601\u001b[39m kwargs.setdefault(\u001b[33m\"\u001b[39m\u001b[33mallow_redirects\u001b[39m\u001b[33m\"\u001b[39m, \u001b[38;5;28;01mTrue\u001b[39;00m)\n\u001b[32m--> \u001b[39m\u001b[32m602\u001b[39m \u001b[38;5;28;01mreturn\u001b[39;00m \u001b[38;5;28;43mself\u001b[39;49m\u001b[43m.\u001b[49m\u001b[43mrequest\u001b[49m\u001b[43m(\u001b[49m\u001b[33;43m\"\u001b[39;49m\u001b[33;43mGET\u001b[39;49m\u001b[33;43m\"\u001b[39;49m\u001b[43m,\u001b[49m\u001b[43m \u001b[49m\u001b[43murl\u001b[49m\u001b[43m,\u001b[49m\u001b[43m \u001b[49m\u001b[43m*\u001b[49m\u001b[43m*\u001b[49m\u001b[43mkwargs\u001b[49m\u001b[43m)\u001b[49m\n",
      "\u001b[36mFile \u001b[39m\u001b[32m~/dev/python_uk_bands/venv/lib/python3.13/site-packages/requests/sessions.py:589\u001b[39m, in \u001b[36mSession.request\u001b[39m\u001b[34m(self, method, url, params, data, headers, cookies, files, auth, timeout, allow_redirects, proxies, hooks, stream, verify, cert, json)\u001b[39m\n\u001b[32m    584\u001b[39m send_kwargs = {\n\u001b[32m    585\u001b[39m     \u001b[33m\"\u001b[39m\u001b[33mtimeout\u001b[39m\u001b[33m\"\u001b[39m: timeout,\n\u001b[32m    586\u001b[39m     \u001b[33m\"\u001b[39m\u001b[33mallow_redirects\u001b[39m\u001b[33m\"\u001b[39m: allow_redirects,\n\u001b[32m    587\u001b[39m }\n\u001b[32m    588\u001b[39m send_kwargs.update(settings)\n\u001b[32m--> \u001b[39m\u001b[32m589\u001b[39m resp = \u001b[38;5;28;43mself\u001b[39;49m\u001b[43m.\u001b[49m\u001b[43msend\u001b[49m\u001b[43m(\u001b[49m\u001b[43mprep\u001b[49m\u001b[43m,\u001b[49m\u001b[43m \u001b[49m\u001b[43m*\u001b[49m\u001b[43m*\u001b[49m\u001b[43msend_kwargs\u001b[49m\u001b[43m)\u001b[49m\n\u001b[32m    591\u001b[39m \u001b[38;5;28;01mreturn\u001b[39;00m resp\n",
      "\u001b[36mFile \u001b[39m\u001b[32m~/dev/python_uk_bands/venv/lib/python3.13/site-packages/requests/sessions.py:703\u001b[39m, in \u001b[36mSession.send\u001b[39m\u001b[34m(self, request, **kwargs)\u001b[39m\n\u001b[32m    700\u001b[39m start = preferred_clock()\n\u001b[32m    702\u001b[39m \u001b[38;5;66;03m# Send the request\u001b[39;00m\n\u001b[32m--> \u001b[39m\u001b[32m703\u001b[39m r = \u001b[43madapter\u001b[49m\u001b[43m.\u001b[49m\u001b[43msend\u001b[49m\u001b[43m(\u001b[49m\u001b[43mrequest\u001b[49m\u001b[43m,\u001b[49m\u001b[43m \u001b[49m\u001b[43m*\u001b[49m\u001b[43m*\u001b[49m\u001b[43mkwargs\u001b[49m\u001b[43m)\u001b[49m\n\u001b[32m    705\u001b[39m \u001b[38;5;66;03m# Total elapsed time of the request (approximately)\u001b[39;00m\n\u001b[32m    706\u001b[39m elapsed = preferred_clock() - start\n",
      "\u001b[36mFile \u001b[39m\u001b[32m~/dev/python_uk_bands/venv/lib/python3.13/site-packages/requests/adapters.py:644\u001b[39m, in \u001b[36mHTTPAdapter.send\u001b[39m\u001b[34m(self, request, stream, timeout, verify, cert, proxies)\u001b[39m\n\u001b[32m    641\u001b[39m     timeout = TimeoutSauce(connect=timeout, read=timeout)\n\u001b[32m    643\u001b[39m \u001b[38;5;28;01mtry\u001b[39;00m:\n\u001b[32m--> \u001b[39m\u001b[32m644\u001b[39m     resp = \u001b[43mconn\u001b[49m\u001b[43m.\u001b[49m\u001b[43murlopen\u001b[49m\u001b[43m(\u001b[49m\n\u001b[32m    645\u001b[39m \u001b[43m        \u001b[49m\u001b[43mmethod\u001b[49m\u001b[43m=\u001b[49m\u001b[43mrequest\u001b[49m\u001b[43m.\u001b[49m\u001b[43mmethod\u001b[49m\u001b[43m,\u001b[49m\n\u001b[32m    646\u001b[39m \u001b[43m        \u001b[49m\u001b[43murl\u001b[49m\u001b[43m=\u001b[49m\u001b[43murl\u001b[49m\u001b[43m,\u001b[49m\n\u001b[32m    647\u001b[39m \u001b[43m        \u001b[49m\u001b[43mbody\u001b[49m\u001b[43m=\u001b[49m\u001b[43mrequest\u001b[49m\u001b[43m.\u001b[49m\u001b[43mbody\u001b[49m\u001b[43m,\u001b[49m\n\u001b[32m    648\u001b[39m \u001b[43m        \u001b[49m\u001b[43mheaders\u001b[49m\u001b[43m=\u001b[49m\u001b[43mrequest\u001b[49m\u001b[43m.\u001b[49m\u001b[43mheaders\u001b[49m\u001b[43m,\u001b[49m\n\u001b[32m    649\u001b[39m \u001b[43m        \u001b[49m\u001b[43mredirect\u001b[49m\u001b[43m=\u001b[49m\u001b[38;5;28;43;01mFalse\u001b[39;49;00m\u001b[43m,\u001b[49m\n\u001b[32m    650\u001b[39m \u001b[43m        \u001b[49m\u001b[43massert_same_host\u001b[49m\u001b[43m=\u001b[49m\u001b[38;5;28;43;01mFalse\u001b[39;49;00m\u001b[43m,\u001b[49m\n\u001b[32m    651\u001b[39m \u001b[43m        \u001b[49m\u001b[43mpreload_content\u001b[49m\u001b[43m=\u001b[49m\u001b[38;5;28;43;01mFalse\u001b[39;49;00m\u001b[43m,\u001b[49m\n\u001b[32m    652\u001b[39m \u001b[43m        \u001b[49m\u001b[43mdecode_content\u001b[49m\u001b[43m=\u001b[49m\u001b[38;5;28;43;01mFalse\u001b[39;49;00m\u001b[43m,\u001b[49m\n\u001b[32m    653\u001b[39m \u001b[43m        \u001b[49m\u001b[43mretries\u001b[49m\u001b[43m=\u001b[49m\u001b[38;5;28;43mself\u001b[39;49m\u001b[43m.\u001b[49m\u001b[43mmax_retries\u001b[49m\u001b[43m,\u001b[49m\n\u001b[32m    654\u001b[39m \u001b[43m        \u001b[49m\u001b[43mtimeout\u001b[49m\u001b[43m=\u001b[49m\u001b[43mtimeout\u001b[49m\u001b[43m,\u001b[49m\n\u001b[32m    655\u001b[39m \u001b[43m        \u001b[49m\u001b[43mchunked\u001b[49m\u001b[43m=\u001b[49m\u001b[43mchunked\u001b[49m\u001b[43m,\u001b[49m\n\u001b[32m    656\u001b[39m \u001b[43m    \u001b[49m\u001b[43m)\u001b[49m\n\u001b[32m    658\u001b[39m \u001b[38;5;28;01mexcept\u001b[39;00m (ProtocolError, \u001b[38;5;167;01mOSError\u001b[39;00m) \u001b[38;5;28;01mas\u001b[39;00m err:\n\u001b[32m    659\u001b[39m     \u001b[38;5;28;01mraise\u001b[39;00m \u001b[38;5;167;01mConnectionError\u001b[39;00m(err, request=request)\n",
      "\u001b[36mFile \u001b[39m\u001b[32m~/dev/python_uk_bands/venv/lib/python3.13/site-packages/urllib3/connectionpool.py:787\u001b[39m, in \u001b[36mHTTPConnectionPool.urlopen\u001b[39m\u001b[34m(self, method, url, body, headers, retries, redirect, assert_same_host, timeout, pool_timeout, release_conn, chunked, body_pos, preload_content, decode_content, **response_kw)\u001b[39m\n\u001b[32m    784\u001b[39m response_conn = conn \u001b[38;5;28;01mif\u001b[39;00m \u001b[38;5;129;01mnot\u001b[39;00m release_conn \u001b[38;5;28;01melse\u001b[39;00m \u001b[38;5;28;01mNone\u001b[39;00m\n\u001b[32m    786\u001b[39m \u001b[38;5;66;03m# Make the request on the HTTPConnection object\u001b[39;00m\n\u001b[32m--> \u001b[39m\u001b[32m787\u001b[39m response = \u001b[38;5;28;43mself\u001b[39;49m\u001b[43m.\u001b[49m\u001b[43m_make_request\u001b[49m\u001b[43m(\u001b[49m\n\u001b[32m    788\u001b[39m \u001b[43m    \u001b[49m\u001b[43mconn\u001b[49m\u001b[43m,\u001b[49m\n\u001b[32m    789\u001b[39m \u001b[43m    \u001b[49m\u001b[43mmethod\u001b[49m\u001b[43m,\u001b[49m\n\u001b[32m    790\u001b[39m \u001b[43m    \u001b[49m\u001b[43murl\u001b[49m\u001b[43m,\u001b[49m\n\u001b[32m    791\u001b[39m \u001b[43m    \u001b[49m\u001b[43mtimeout\u001b[49m\u001b[43m=\u001b[49m\u001b[43mtimeout_obj\u001b[49m\u001b[43m,\u001b[49m\n\u001b[32m    792\u001b[39m \u001b[43m    \u001b[49m\u001b[43mbody\u001b[49m\u001b[43m=\u001b[49m\u001b[43mbody\u001b[49m\u001b[43m,\u001b[49m\n\u001b[32m    793\u001b[39m \u001b[43m    \u001b[49m\u001b[43mheaders\u001b[49m\u001b[43m=\u001b[49m\u001b[43mheaders\u001b[49m\u001b[43m,\u001b[49m\n\u001b[32m    794\u001b[39m \u001b[43m    \u001b[49m\u001b[43mchunked\u001b[49m\u001b[43m=\u001b[49m\u001b[43mchunked\u001b[49m\u001b[43m,\u001b[49m\n\u001b[32m    795\u001b[39m \u001b[43m    \u001b[49m\u001b[43mretries\u001b[49m\u001b[43m=\u001b[49m\u001b[43mretries\u001b[49m\u001b[43m,\u001b[49m\n\u001b[32m    796\u001b[39m \u001b[43m    \u001b[49m\u001b[43mresponse_conn\u001b[49m\u001b[43m=\u001b[49m\u001b[43mresponse_conn\u001b[49m\u001b[43m,\u001b[49m\n\u001b[32m    797\u001b[39m \u001b[43m    \u001b[49m\u001b[43mpreload_content\u001b[49m\u001b[43m=\u001b[49m\u001b[43mpreload_content\u001b[49m\u001b[43m,\u001b[49m\n\u001b[32m    798\u001b[39m \u001b[43m    \u001b[49m\u001b[43mdecode_content\u001b[49m\u001b[43m=\u001b[49m\u001b[43mdecode_content\u001b[49m\u001b[43m,\u001b[49m\n\u001b[32m    799\u001b[39m \u001b[43m    \u001b[49m\u001b[43m*\u001b[49m\u001b[43m*\u001b[49m\u001b[43mresponse_kw\u001b[49m\u001b[43m,\u001b[49m\n\u001b[32m    800\u001b[39m \u001b[43m\u001b[49m\u001b[43m)\u001b[49m\n\u001b[32m    802\u001b[39m \u001b[38;5;66;03m# Everything went great!\u001b[39;00m\n\u001b[32m    803\u001b[39m clean_exit = \u001b[38;5;28;01mTrue\u001b[39;00m\n",
      "\u001b[36mFile \u001b[39m\u001b[32m~/dev/python_uk_bands/venv/lib/python3.13/site-packages/urllib3/connectionpool.py:464\u001b[39m, in \u001b[36mHTTPConnectionPool._make_request\u001b[39m\u001b[34m(self, conn, method, url, body, headers, retries, timeout, chunked, response_conn, preload_content, decode_content, enforce_content_length)\u001b[39m\n\u001b[32m    461\u001b[39m \u001b[38;5;28;01mtry\u001b[39;00m:\n\u001b[32m    462\u001b[39m     \u001b[38;5;66;03m# Trigger any extra validation we need to do.\u001b[39;00m\n\u001b[32m    463\u001b[39m     \u001b[38;5;28;01mtry\u001b[39;00m:\n\u001b[32m--> \u001b[39m\u001b[32m464\u001b[39m         \u001b[38;5;28;43mself\u001b[39;49m\u001b[43m.\u001b[49m\u001b[43m_validate_conn\u001b[49m\u001b[43m(\u001b[49m\u001b[43mconn\u001b[49m\u001b[43m)\u001b[49m\n\u001b[32m    465\u001b[39m     \u001b[38;5;28;01mexcept\u001b[39;00m (SocketTimeout, BaseSSLError) \u001b[38;5;28;01mas\u001b[39;00m e:\n\u001b[32m    466\u001b[39m         \u001b[38;5;28mself\u001b[39m._raise_timeout(err=e, url=url, timeout_value=conn.timeout)\n",
      "\u001b[36mFile \u001b[39m\u001b[32m~/dev/python_uk_bands/venv/lib/python3.13/site-packages/urllib3/connectionpool.py:1093\u001b[39m, in \u001b[36mHTTPSConnectionPool._validate_conn\u001b[39m\u001b[34m(self, conn)\u001b[39m\n\u001b[32m   1091\u001b[39m \u001b[38;5;66;03m# Force connect early to allow us to validate the connection.\u001b[39;00m\n\u001b[32m   1092\u001b[39m \u001b[38;5;28;01mif\u001b[39;00m conn.is_closed:\n\u001b[32m-> \u001b[39m\u001b[32m1093\u001b[39m     \u001b[43mconn\u001b[49m\u001b[43m.\u001b[49m\u001b[43mconnect\u001b[49m\u001b[43m(\u001b[49m\u001b[43m)\u001b[49m\n\u001b[32m   1095\u001b[39m \u001b[38;5;66;03m# TODO revise this, see https://github.com/urllib3/urllib3/issues/2791\u001b[39;00m\n\u001b[32m   1096\u001b[39m \u001b[38;5;28;01mif\u001b[39;00m \u001b[38;5;129;01mnot\u001b[39;00m conn.is_verified \u001b[38;5;129;01mand\u001b[39;00m \u001b[38;5;129;01mnot\u001b[39;00m conn.proxy_is_verified:\n",
      "\u001b[36mFile \u001b[39m\u001b[32m~/dev/python_uk_bands/venv/lib/python3.13/site-packages/urllib3/connection.py:790\u001b[39m, in \u001b[36mHTTPSConnection.connect\u001b[39m\u001b[34m(self)\u001b[39m\n\u001b[32m    787\u001b[39m     \u001b[38;5;66;03m# Remove trailing '.' from fqdn hostnames to allow certificate validation\u001b[39;00m\n\u001b[32m    788\u001b[39m     server_hostname_rm_dot = server_hostname.rstrip(\u001b[33m\"\u001b[39m\u001b[33m.\u001b[39m\u001b[33m\"\u001b[39m)\n\u001b[32m--> \u001b[39m\u001b[32m790\u001b[39m     sock_and_verified = \u001b[43m_ssl_wrap_socket_and_match_hostname\u001b[49m\u001b[43m(\u001b[49m\n\u001b[32m    791\u001b[39m \u001b[43m        \u001b[49m\u001b[43msock\u001b[49m\u001b[43m=\u001b[49m\u001b[43msock\u001b[49m\u001b[43m,\u001b[49m\n\u001b[32m    792\u001b[39m \u001b[43m        \u001b[49m\u001b[43mcert_reqs\u001b[49m\u001b[43m=\u001b[49m\u001b[38;5;28;43mself\u001b[39;49m\u001b[43m.\u001b[49m\u001b[43mcert_reqs\u001b[49m\u001b[43m,\u001b[49m\n\u001b[32m    793\u001b[39m \u001b[43m        \u001b[49m\u001b[43mssl_version\u001b[49m\u001b[43m=\u001b[49m\u001b[38;5;28;43mself\u001b[39;49m\u001b[43m.\u001b[49m\u001b[43mssl_version\u001b[49m\u001b[43m,\u001b[49m\n\u001b[32m    794\u001b[39m \u001b[43m        \u001b[49m\u001b[43mssl_minimum_version\u001b[49m\u001b[43m=\u001b[49m\u001b[38;5;28;43mself\u001b[39;49m\u001b[43m.\u001b[49m\u001b[43mssl_minimum_version\u001b[49m\u001b[43m,\u001b[49m\n\u001b[32m    795\u001b[39m \u001b[43m        \u001b[49m\u001b[43mssl_maximum_version\u001b[49m\u001b[43m=\u001b[49m\u001b[38;5;28;43mself\u001b[39;49m\u001b[43m.\u001b[49m\u001b[43mssl_maximum_version\u001b[49m\u001b[43m,\u001b[49m\n\u001b[32m    796\u001b[39m \u001b[43m        \u001b[49m\u001b[43mca_certs\u001b[49m\u001b[43m=\u001b[49m\u001b[38;5;28;43mself\u001b[39;49m\u001b[43m.\u001b[49m\u001b[43mca_certs\u001b[49m\u001b[43m,\u001b[49m\n\u001b[32m    797\u001b[39m \u001b[43m        \u001b[49m\u001b[43mca_cert_dir\u001b[49m\u001b[43m=\u001b[49m\u001b[38;5;28;43mself\u001b[39;49m\u001b[43m.\u001b[49m\u001b[43mca_cert_dir\u001b[49m\u001b[43m,\u001b[49m\n\u001b[32m    798\u001b[39m \u001b[43m        \u001b[49m\u001b[43mca_cert_data\u001b[49m\u001b[43m=\u001b[49m\u001b[38;5;28;43mself\u001b[39;49m\u001b[43m.\u001b[49m\u001b[43mca_cert_data\u001b[49m\u001b[43m,\u001b[49m\n\u001b[32m    799\u001b[39m \u001b[43m        \u001b[49m\u001b[43mcert_file\u001b[49m\u001b[43m=\u001b[49m\u001b[38;5;28;43mself\u001b[39;49m\u001b[43m.\u001b[49m\u001b[43mcert_file\u001b[49m\u001b[43m,\u001b[49m\n\u001b[32m    800\u001b[39m \u001b[43m        \u001b[49m\u001b[43mkey_file\u001b[49m\u001b[43m=\u001b[49m\u001b[38;5;28;43mself\u001b[39;49m\u001b[43m.\u001b[49m\u001b[43mkey_file\u001b[49m\u001b[43m,\u001b[49m\n\u001b[32m    801\u001b[39m \u001b[43m        \u001b[49m\u001b[43mkey_password\u001b[49m\u001b[43m=\u001b[49m\u001b[38;5;28;43mself\u001b[39;49m\u001b[43m.\u001b[49m\u001b[43mkey_password\u001b[49m\u001b[43m,\u001b[49m\n\u001b[32m    802\u001b[39m \u001b[43m        \u001b[49m\u001b[43mserver_hostname\u001b[49m\u001b[43m=\u001b[49m\u001b[43mserver_hostname_rm_dot\u001b[49m\u001b[43m,\u001b[49m\n\u001b[32m    803\u001b[39m \u001b[43m        \u001b[49m\u001b[43mssl_context\u001b[49m\u001b[43m=\u001b[49m\u001b[38;5;28;43mself\u001b[39;49m\u001b[43m.\u001b[49m\u001b[43mssl_context\u001b[49m\u001b[43m,\u001b[49m\n\u001b[32m    804\u001b[39m \u001b[43m        \u001b[49m\u001b[43mtls_in_tls\u001b[49m\u001b[43m=\u001b[49m\u001b[43mtls_in_tls\u001b[49m\u001b[43m,\u001b[49m\n\u001b[32m    805\u001b[39m \u001b[43m        \u001b[49m\u001b[43massert_hostname\u001b[49m\u001b[43m=\u001b[49m\u001b[38;5;28;43mself\u001b[39;49m\u001b[43m.\u001b[49m\u001b[43massert_hostname\u001b[49m\u001b[43m,\u001b[49m\n\u001b[32m    806\u001b[39m \u001b[43m        \u001b[49m\u001b[43massert_fingerprint\u001b[49m\u001b[43m=\u001b[49m\u001b[38;5;28;43mself\u001b[39;49m\u001b[43m.\u001b[49m\u001b[43massert_fingerprint\u001b[49m\u001b[43m,\u001b[49m\n\u001b[32m    807\u001b[39m \u001b[43m    \u001b[49m\u001b[43m)\u001b[49m\n\u001b[32m    808\u001b[39m     \u001b[38;5;28mself\u001b[39m.sock = sock_and_verified.socket\n\u001b[32m    810\u001b[39m \u001b[38;5;66;03m# If an error occurs during connection/handshake we may need to release\u001b[39;00m\n\u001b[32m    811\u001b[39m \u001b[38;5;66;03m# our lock so another connection can probe the origin.\u001b[39;00m\n",
      "\u001b[36mFile \u001b[39m\u001b[32m~/dev/python_uk_bands/venv/lib/python3.13/site-packages/urllib3/connection.py:969\u001b[39m, in \u001b[36m_ssl_wrap_socket_and_match_hostname\u001b[39m\u001b[34m(sock, cert_reqs, ssl_version, ssl_minimum_version, ssl_maximum_version, cert_file, key_file, key_password, ca_certs, ca_cert_dir, ca_cert_data, assert_hostname, assert_fingerprint, server_hostname, ssl_context, tls_in_tls)\u001b[39m\n\u001b[32m    966\u001b[39m     \u001b[38;5;28;01mif\u001b[39;00m is_ipaddress(normalized):\n\u001b[32m    967\u001b[39m         server_hostname = normalized\n\u001b[32m--> \u001b[39m\u001b[32m969\u001b[39m ssl_sock = \u001b[43mssl_wrap_socket\u001b[49m\u001b[43m(\u001b[49m\n\u001b[32m    970\u001b[39m \u001b[43m    \u001b[49m\u001b[43msock\u001b[49m\u001b[43m=\u001b[49m\u001b[43msock\u001b[49m\u001b[43m,\u001b[49m\n\u001b[32m    971\u001b[39m \u001b[43m    \u001b[49m\u001b[43mkeyfile\u001b[49m\u001b[43m=\u001b[49m\u001b[43mkey_file\u001b[49m\u001b[43m,\u001b[49m\n\u001b[32m    972\u001b[39m \u001b[43m    \u001b[49m\u001b[43mcertfile\u001b[49m\u001b[43m=\u001b[49m\u001b[43mcert_file\u001b[49m\u001b[43m,\u001b[49m\n\u001b[32m    973\u001b[39m \u001b[43m    \u001b[49m\u001b[43mkey_password\u001b[49m\u001b[43m=\u001b[49m\u001b[43mkey_password\u001b[49m\u001b[43m,\u001b[49m\n\u001b[32m    974\u001b[39m \u001b[43m    \u001b[49m\u001b[43mca_certs\u001b[49m\u001b[43m=\u001b[49m\u001b[43mca_certs\u001b[49m\u001b[43m,\u001b[49m\n\u001b[32m    975\u001b[39m \u001b[43m    \u001b[49m\u001b[43mca_cert_dir\u001b[49m\u001b[43m=\u001b[49m\u001b[43mca_cert_dir\u001b[49m\u001b[43m,\u001b[49m\n\u001b[32m    976\u001b[39m \u001b[43m    \u001b[49m\u001b[43mca_cert_data\u001b[49m\u001b[43m=\u001b[49m\u001b[43mca_cert_data\u001b[49m\u001b[43m,\u001b[49m\n\u001b[32m    977\u001b[39m \u001b[43m    \u001b[49m\u001b[43mserver_hostname\u001b[49m\u001b[43m=\u001b[49m\u001b[43mserver_hostname\u001b[49m\u001b[43m,\u001b[49m\n\u001b[32m    978\u001b[39m \u001b[43m    \u001b[49m\u001b[43mssl_context\u001b[49m\u001b[43m=\u001b[49m\u001b[43mcontext\u001b[49m\u001b[43m,\u001b[49m\n\u001b[32m    979\u001b[39m \u001b[43m    \u001b[49m\u001b[43mtls_in_tls\u001b[49m\u001b[43m=\u001b[49m\u001b[43mtls_in_tls\u001b[49m\u001b[43m,\u001b[49m\n\u001b[32m    980\u001b[39m \u001b[43m\u001b[49m\u001b[43m)\u001b[49m\n\u001b[32m    982\u001b[39m \u001b[38;5;28;01mtry\u001b[39;00m:\n\u001b[32m    983\u001b[39m     \u001b[38;5;28;01mif\u001b[39;00m assert_fingerprint:\n",
      "\u001b[36mFile \u001b[39m\u001b[32m~/dev/python_uk_bands/venv/lib/python3.13/site-packages/urllib3/util/ssl_.py:480\u001b[39m, in \u001b[36mssl_wrap_socket\u001b[39m\u001b[34m(sock, keyfile, certfile, cert_reqs, ca_certs, server_hostname, ssl_version, ciphers, ssl_context, ca_cert_dir, key_password, ca_cert_data, tls_in_tls)\u001b[39m\n\u001b[32m    476\u001b[39m         context.load_cert_chain(certfile, keyfile, key_password)\n\u001b[32m    478\u001b[39m context.set_alpn_protocols(ALPN_PROTOCOLS)\n\u001b[32m--> \u001b[39m\u001b[32m480\u001b[39m ssl_sock = \u001b[43m_ssl_wrap_socket_impl\u001b[49m\u001b[43m(\u001b[49m\u001b[43msock\u001b[49m\u001b[43m,\u001b[49m\u001b[43m \u001b[49m\u001b[43mcontext\u001b[49m\u001b[43m,\u001b[49m\u001b[43m \u001b[49m\u001b[43mtls_in_tls\u001b[49m\u001b[43m,\u001b[49m\u001b[43m \u001b[49m\u001b[43mserver_hostname\u001b[49m\u001b[43m)\u001b[49m\n\u001b[32m    481\u001b[39m \u001b[38;5;28;01mreturn\u001b[39;00m ssl_sock\n",
      "\u001b[36mFile \u001b[39m\u001b[32m~/dev/python_uk_bands/venv/lib/python3.13/site-packages/urllib3/util/ssl_.py:524\u001b[39m, in \u001b[36m_ssl_wrap_socket_impl\u001b[39m\u001b[34m(sock, ssl_context, tls_in_tls, server_hostname)\u001b[39m\n\u001b[32m    521\u001b[39m     SSLTransport._validate_ssl_context_for_tls_in_tls(ssl_context)\n\u001b[32m    522\u001b[39m     \u001b[38;5;28;01mreturn\u001b[39;00m SSLTransport(sock, ssl_context, server_hostname)\n\u001b[32m--> \u001b[39m\u001b[32m524\u001b[39m \u001b[38;5;28;01mreturn\u001b[39;00m \u001b[43mssl_context\u001b[49m\u001b[43m.\u001b[49m\u001b[43mwrap_socket\u001b[49m\u001b[43m(\u001b[49m\u001b[43msock\u001b[49m\u001b[43m,\u001b[49m\u001b[43m \u001b[49m\u001b[43mserver_hostname\u001b[49m\u001b[43m=\u001b[49m\u001b[43mserver_hostname\u001b[49m\u001b[43m)\u001b[49m\n",
      "\u001b[36mFile \u001b[39m\u001b[32m/opt/homebrew/Cellar/python@3.13/3.13.1/Frameworks/Python.framework/Versions/3.13/lib/python3.13/ssl.py:455\u001b[39m, in \u001b[36mSSLContext.wrap_socket\u001b[39m\u001b[34m(self, sock, server_side, do_handshake_on_connect, suppress_ragged_eofs, server_hostname, session)\u001b[39m\n\u001b[32m    449\u001b[39m \u001b[38;5;28;01mdef\u001b[39;00m\u001b[38;5;250m \u001b[39m\u001b[34mwrap_socket\u001b[39m(\u001b[38;5;28mself\u001b[39m, sock, server_side=\u001b[38;5;28;01mFalse\u001b[39;00m,\n\u001b[32m    450\u001b[39m                 do_handshake_on_connect=\u001b[38;5;28;01mTrue\u001b[39;00m,\n\u001b[32m    451\u001b[39m                 suppress_ragged_eofs=\u001b[38;5;28;01mTrue\u001b[39;00m,\n\u001b[32m    452\u001b[39m                 server_hostname=\u001b[38;5;28;01mNone\u001b[39;00m, session=\u001b[38;5;28;01mNone\u001b[39;00m):\n\u001b[32m    453\u001b[39m     \u001b[38;5;66;03m# SSLSocket class handles server_hostname encoding before it calls\u001b[39;00m\n\u001b[32m    454\u001b[39m     \u001b[38;5;66;03m# ctx._wrap_socket()\u001b[39;00m\n\u001b[32m--> \u001b[39m\u001b[32m455\u001b[39m     \u001b[38;5;28;01mreturn\u001b[39;00m \u001b[38;5;28;43mself\u001b[39;49m\u001b[43m.\u001b[49m\u001b[43msslsocket_class\u001b[49m\u001b[43m.\u001b[49m\u001b[43m_create\u001b[49m\u001b[43m(\u001b[49m\n\u001b[32m    456\u001b[39m \u001b[43m        \u001b[49m\u001b[43msock\u001b[49m\u001b[43m=\u001b[49m\u001b[43msock\u001b[49m\u001b[43m,\u001b[49m\n\u001b[32m    457\u001b[39m \u001b[43m        \u001b[49m\u001b[43mserver_side\u001b[49m\u001b[43m=\u001b[49m\u001b[43mserver_side\u001b[49m\u001b[43m,\u001b[49m\n\u001b[32m    458\u001b[39m \u001b[43m        \u001b[49m\u001b[43mdo_handshake_on_connect\u001b[49m\u001b[43m=\u001b[49m\u001b[43mdo_handshake_on_connect\u001b[49m\u001b[43m,\u001b[49m\n\u001b[32m    459\u001b[39m \u001b[43m        \u001b[49m\u001b[43msuppress_ragged_eofs\u001b[49m\u001b[43m=\u001b[49m\u001b[43msuppress_ragged_eofs\u001b[49m\u001b[43m,\u001b[49m\n\u001b[32m    460\u001b[39m \u001b[43m        \u001b[49m\u001b[43mserver_hostname\u001b[49m\u001b[43m=\u001b[49m\u001b[43mserver_hostname\u001b[49m\u001b[43m,\u001b[49m\n\u001b[32m    461\u001b[39m \u001b[43m        \u001b[49m\u001b[43mcontext\u001b[49m\u001b[43m=\u001b[49m\u001b[38;5;28;43mself\u001b[39;49m\u001b[43m,\u001b[49m\n\u001b[32m    462\u001b[39m \u001b[43m        \u001b[49m\u001b[43msession\u001b[49m\u001b[43m=\u001b[49m\u001b[43msession\u001b[49m\n\u001b[32m    463\u001b[39m \u001b[43m    \u001b[49m\u001b[43m)\u001b[49m\n",
      "\u001b[36mFile \u001b[39m\u001b[32m/opt/homebrew/Cellar/python@3.13/3.13.1/Frameworks/Python.framework/Versions/3.13/lib/python3.13/ssl.py:1076\u001b[39m, in \u001b[36mSSLSocket._create\u001b[39m\u001b[34m(cls, sock, server_side, do_handshake_on_connect, suppress_ragged_eofs, server_hostname, context, session)\u001b[39m\n\u001b[32m   1073\u001b[39m             \u001b[38;5;28;01mif\u001b[39;00m timeout == \u001b[32m0.0\u001b[39m:\n\u001b[32m   1074\u001b[39m                 \u001b[38;5;66;03m# non-blocking\u001b[39;00m\n\u001b[32m   1075\u001b[39m                 \u001b[38;5;28;01mraise\u001b[39;00m \u001b[38;5;167;01mValueError\u001b[39;00m(\u001b[33m\"\u001b[39m\u001b[33mdo_handshake_on_connect should not be specified for non-blocking sockets\u001b[39m\u001b[33m\"\u001b[39m)\n\u001b[32m-> \u001b[39m\u001b[32m1076\u001b[39m             \u001b[38;5;28;43mself\u001b[39;49m\u001b[43m.\u001b[49m\u001b[43mdo_handshake\u001b[49m\u001b[43m(\u001b[49m\u001b[43m)\u001b[49m\n\u001b[32m   1077\u001b[39m \u001b[38;5;28;01mexcept\u001b[39;00m:\n\u001b[32m   1078\u001b[39m     \u001b[38;5;28;01mtry\u001b[39;00m:\n",
      "\u001b[36mFile \u001b[39m\u001b[32m/opt/homebrew/Cellar/python@3.13/3.13.1/Frameworks/Python.framework/Versions/3.13/lib/python3.13/ssl.py:1372\u001b[39m, in \u001b[36mSSLSocket.do_handshake\u001b[39m\u001b[34m(self, block)\u001b[39m\n\u001b[32m   1370\u001b[39m     \u001b[38;5;28;01mif\u001b[39;00m timeout == \u001b[32m0.0\u001b[39m \u001b[38;5;129;01mand\u001b[39;00m block:\n\u001b[32m   1371\u001b[39m         \u001b[38;5;28mself\u001b[39m.settimeout(\u001b[38;5;28;01mNone\u001b[39;00m)\n\u001b[32m-> \u001b[39m\u001b[32m1372\u001b[39m     \u001b[38;5;28;43mself\u001b[39;49m\u001b[43m.\u001b[49m\u001b[43m_sslobj\u001b[49m\u001b[43m.\u001b[49m\u001b[43mdo_handshake\u001b[49m\u001b[43m(\u001b[49m\u001b[43m)\u001b[49m\n\u001b[32m   1373\u001b[39m \u001b[38;5;28;01mfinally\u001b[39;00m:\n\u001b[32m   1374\u001b[39m     \u001b[38;5;28mself\u001b[39m.settimeout(timeout)\n",
      "\u001b[31mKeyboardInterrupt\u001b[39m: "
     ]
    }
   ],
   "source": [
    "# ✅ Skip regeneration if CSV already exists\n",
    "import os\n",
    "if os.path.exists(\"google_trends_band_interest.csv\"):\n",
    "    print(\"📁 Using existing google_trends_band_interest.csv\")\n",
    "    normalized_df = pd.read_csv(\"google_trends_band_interest.csv\", index_col=0)\n",
    "else:\n",
    "    from pytrends.request import TrendReq\n",
    "    import pandas as pd\n",
    "    import time\n",
    "    import warnings\n",
    "    warnings.filterwarnings('ignore')\n",
    "\n",
    "    pytrends = TrendReq(hl='en-GB', tz=0)\n",
    "    pytrends = TrendReq(hl='en-US', tz=0)\n",
    "    anchor = \"The Beatles\"\n",
    "    batch_size = 4\n",
    "\n",
    "    # 🔍 Lookup band topics via pytrends.suggestions\n",
    "    band_topics = {}\n",
    "    for band in all_bands:\n",
    "        suggestions = pytrends.suggestions(band)\n",
    "        match = next((s for s in suggestions if s['type'].lower() == 'band'), None)\n",
    "        time.sleep(0.5)\n",
    "        if match:\n",
    "            print(f\"Topic found for {band}: {match['mid']}\")\n",
    "            band_topics[band] = match['mid']\n",
    "        else:\n",
    "            print(f\"⚠️ No topic found for {band}\")\n",
    "\n",
    "    # 🧠 Add anchor topic\n",
    "    anchor_topic = band_topics.get(anchor)\n",
    "    if not anchor_topic:\n",
    "        raise ValueError(\"Anchor band topic not found\")\n",
    "\n",
    "    batched_data = []\n",
    "    for i in range(0, len(all_bands), batch_size):\n",
    "        batch = all_bands[i:i + batch_size]\n",
    "        mids = [band_topics.get(band) for band in batch if band_topics.get(band)]\n",
    "        if anchor_topic not in mids:\n",
    "            mids = [anchor_topic] + mids\n",
    "        pytrends.build_payload(mids, timeframe=\"today 5-y\", geo=\"GB\")\n",
    "        df = pytrends.interest_over_time()\n",
    "        if not df.empty:\n",
    "            df = df.drop(columns=[\"isPartial\"])\n",
    "            df.columns.name = None\n",
    "            batched_data.append(df)\n",
    "        time.sleep(1)\n",
    "\n",
    "    # 🧬 Normalize using anchor\n",
    "    merged_df = pd.concat(batched_data, axis=1)\n",
    "    merged_df = merged_df.loc[:, ~merged_df.columns.duplicated()]\n",
    "    normalized_df = merged_df.div(merged_df[anchor].max()).multiply(100)\n",
    "    normalized_df.to_csv(\"google_trends_band_interest.csv\")"
   ]
  },
  {
   "cell_type": "code",
   "execution_count": null,
   "id": "bda0b5d6",
   "metadata": {},
   "outputs": [],
   "source": [
    "# 🧬 Normalize and save\n",
    "merged_df = pd.concat(batched_data, axis=1)\n",
    "merged_df = merged_df.loc[:, ~merged_df.columns.duplicated()]\n",
    "anchor_max = merged_df[anchor].max()\n",
    "normalized_df = merged_df.div(merged_df[anchor], axis=0).multiply(anchor_max)\n",
    "normalized_df.to_csv(\"google_trends_band_interest.csv\")"
   ]
  },
  {
   "cell_type": "code",
   "execution_count": null,
   "id": "0dd7aa0c",
   "metadata": {},
   "outputs": [],
   "source": [
    "# 📊 Top 20 bands\n",
    "top_20 = normalized_df.mean().sort_values(ascending=False).head(20)\n",
    "plt.figure(figsize=(10, 6))\n",
    "plt.barh(top_20.index[::-1], top_20.values[::-1], color=\"gray\", edgecolor=\"none\")\n",
    "ax = plt.gca()\n",
    "for spine in ax.spines.values():\n",
    "    spine.set_visible(False)\n",
    "ax.tick_params(left=False, bottom=False)\n",
    "plt.xlabel(\"Avg. Google Search Interest (Normalized)\")\n",
    "plt.title(\"Top 20 UK Bands by Google Search (5-Year Avg, UK)\")\n",
    "plt.tight_layout()\n",
    "plt.show()"
   ]
  },
  {
   "cell_type": "markdown",
   "id": "fc6d0070",
   "metadata": {},
   "source": [
    "## 🌍 Global Interest Chart\n",
    "In addition to UK-only interest, this chart shows **global average search interest** over the past 5 years."
   ]
  },
  {
   "cell_type": "code",
   "execution_count": null,
   "id": "88af4d32",
   "metadata": {},
   "outputs": [],
   "source": [
    "# ✅ Skip global trends regeneration if CSV already exists\n",
    "if os.path.exists(\"google_trends_global_band_interest.csv\"):\n",
    "    print(\"📁 Using existing google_trends_global_band_interest.csv\")\n",
    "    normalized_global = pd.read_csv(\"google_trends_global_band_interest.csv\", index_col=0)\n",
    "else:\n",
    "    global_batched_data = []\n",
    "    for i in range(0, len(all_bands), batch_size):\n",
    "        batch = all_bands[i:i + batch_size]\n",
    "        if anchor not in batch:\n",
    "            batch = [anchor] + batch\n",
    "        else:\n",
    "            batch = batch[:5]\n",
    "\n",
    "        pytrends.build_payload(batch, timeframe=\"today 5-y\", geo=\"\")  # No geo = worldwide\n",
    "        df = pytrends.interest_over_time()\n",
    "        if not df.empty:\n",
    "            df = df.drop(columns=\"isPartial\")\n",
    "            global_batched_data.append(df)\n",
    "        time.sleep(1)\n",
    "\n",
    "    global_df = pd.concat(global_batched_data, axis=1)\n",
    "    global_df = global_df.loc[:, ~global_df.columns.duplicated()]\n",
    "    anchor_max = global_df[anchor].max()\n",
    "    normalized_global = global_df.div(global_df[anchor], axis=0).multiply(anchor_max)\n",
    "    normalized_global.to_csv(\"google_trends_global_band_interest.csv\")"
   ]
  },
  {
   "cell_type": "code",
   "execution_count": null,
   "id": "ada985b7",
   "metadata": {},
   "outputs": [],
   "source": [
    "# Plot top 20 globally\n",
    "top_20_global = normalized_global.mean().sort_values(ascending=False).head(20)\n",
    "plt.figure(figsize=(10, 6))\n",
    "plt.barh(top_20_global.index[::-1], top_20_global.values[::-1], color=\"gray\", edgecolor=\"none\")\n",
    "ax = plt.gca()\n",
    "for spine in ax.spines.values():\n",
    "    spine.set_visible(False)\n",
    "ax.tick_params(left=False, bottom=False)\n",
    "plt.xlabel(\"Avg. Global Google Search Interest (Normalized)\")\n",
    "plt.title(\"Top 20 UK Bands by Global Search (5-Year Avg)\")\n",
    "plt.tight_layout()\n",
    "plt.show()"
   ]
  },
  {
   "cell_type": "markdown",
   "id": "84eecc1a",
   "metadata": {},
   "source": [
    "## 🏙️ Cultural Impact by City (Google Search Interest)\n",
    "We've been looking at bands individually, but the original question was: **which UK cities have the biggest cultural impact through music?**\n",
    "\n",
    "To answer that, we now aggregate normalized search interest by city, using the band–city mapping. This gives us a total cultural 'footprint' based on the popularity of each city's artists across the UK."
   ]
  },
  {
   "cell_type": "code",
   "execution_count": null,
   "id": "d8e57389",
   "metadata": {},
   "outputs": [],
   "source": [
    "# Aggregate city-level cultural impact\n",
    "band_city_lookup = {band: city for city, bands in bands_by_city.items() for band in bands}\n",
    "band_averages = normalized_df.mean()\n",
    "city_scores = {}\n",
    "for band, score in band_averages.items():\n",
    "    city = band_city_lookup.get(band)\n",
    "    if city:\n",
    "        city_scores[city] = city_scores.get(city, 0) + score\n",
    "\n",
    "# Convert to DataFrame\n",
    "city_df = pd.DataFrame.from_dict(city_scores, orient='index', columns=['TotalSearchImpact'])\n",
    "city_df = city_df.sort_values('TotalSearchImpact', ascending=True)"
   ]
  },
  {
   "cell_type": "code",
   "execution_count": null,
   "id": "3fb12a77",
   "metadata": {},
   "outputs": [],
   "source": [
    "# Plot city impact\n",
    "plt.figure(figsize=(10, 6))\n",
    "plt.barh(city_df.index, city_df['TotalSearchImpact'], color=\"gray\", edgecolor=\"none\")\n",
    "ax = plt.gca()\n",
    "for spine in ax.spines.values():\n",
    "    spine.set_visible(False)\n",
    "ax.tick_params(left=False, bottom=False)\n",
    "plt.xlabel(\"Aggregate Google Search Interest (Normalized)\")\n",
    "plt.title(\"Cultural Impact by City (Based on Band Popularity)\")\n",
    "plt.tight_layout()\n",
    "plt.show()"
   ]
  },
  {
   "cell_type": "markdown",
   "id": "c89a1214",
   "metadata": {},
   "source": [
    "## 🧠 Better Metrics for City Cultural Impact\n",
    "Because our search interest scores are normalized (not absolute), simple aggregation can misrepresent cultural impact.\n",
    "\n",
    "Instead, we use two smarter metrics:\n",
    "1. **Average Search Interest per City** – how strong a city's artists are on average\n",
    "2. **Top Band per City** – the single most searched band for each city"
   ]
  },
  {
   "cell_type": "code",
   "execution_count": null,
   "id": "36d024f7",
   "metadata": {},
   "outputs": [],
   "source": [
    "# 🎯 Metric 1: Average search interest per city\n",
    "city_scores_avg = {}\n",
    "for band, score in band_averages.items():\n",
    "    city = band_city_lookup.get(band)\n",
    "    if city:\n",
    "        city_scores_avg.setdefault(city, []).append(score)\n",
    "\n",
    "city_avg_df = pd.DataFrame({\n",
    "    city: sum(scores) / len(scores)\n",
    "    for city, scores in city_scores_avg.items()\n",
    "}, index=[\"AvgSearchImpact\"]).T.sort_values(\"AvgSearchImpact\", ascending=True)"
   ]
  },
  {
   "cell_type": "code",
   "execution_count": null,
   "id": "5b16c938",
   "metadata": {},
   "outputs": [],
   "source": [
    "# 📊 Plot average per city\n",
    "plt.figure(figsize=(10, 6))\n",
    "plt.barh(city_avg_df.index, city_avg_df['AvgSearchImpact'], color=\"gray\", edgecolor=\"none\")\n",
    "ax = plt.gca()\n",
    "for spine in ax.spines.values():\n",
    "    spine.set_visible(False)\n",
    "ax.tick_params(left=False, bottom=False)\n",
    "plt.xlabel(\"Avg. Google Search Interest (Normalized)\")\n",
    "plt.title(\"Average Cultural Impact per City (Google Search)\")\n",
    "plt.tight_layout()\n",
    "plt.show()"
   ]
  },
  {
   "cell_type": "code",
   "execution_count": null,
   "id": "59721c06",
   "metadata": {},
   "outputs": [],
   "source": [
    "# 🎖️ Metric 2: Top band per city\n",
    "top_band_per_city = {}\n",
    "for band, city in band_city_lookup.items():\n",
    "    score = band_averages.get(band)\n",
    "    if score is not None:\n",
    "        current_top = top_band_per_city.get(city, (None, -1))\n",
    "        if score > current_top[1]:\n",
    "            top_band_per_city[city] = (band, score)\n",
    "\n",
    "top_band_df = pd.DataFrame(\n",
    "    [(city, band, score) for city, (band, score) in top_band_per_city.items()],\n",
    "    columns=[\"City\", \"Band\", \"SearchImpact\"]\n",
    ").sort_values(\"SearchImpact\", ascending=True)"
   ]
  },
  {
   "cell_type": "code",
   "execution_count": null,
   "id": "42196291",
   "metadata": {},
   "outputs": [],
   "source": [
    "# 📊 Plot top band per city\n",
    "plt.figure(figsize=(10, 6))\n",
    "bars = plt.barh(top_band_df['City'], top_band_df['SearchImpact'], color=\"gray\", edgecolor=\"none\")\n",
    "for bar, band in zip(bars, top_band_df['Band']):\n",
    "    width = bar.get_width()\n",
    "    plt.text(width + 0.3, bar.get_y() + bar.get_height()/2, f\"{band} ({width:.1f})\", va='center')\n",
    "ax = plt.gca()\n",
    "for spine in ax.spines.values():\n",
    "    spine.set_visible(False)\n",
    "ax.tick_params(left=False, bottom=False)\n",
    "plt.xlabel(\"Search Interest (Normalized)\")\n",
    "plt.title(\"Top Band per City by Google Search Impact\")\n",
    "plt.tight_layout()\n",
    "plt.show()"
   ]
  },
  {
   "cell_type": "markdown",
   "id": "23d52337",
   "metadata": {},
   "source": [
    "## 📈 City Cultural Impact vs Population\n",
    "Does city size correlate with cultural influence through music?\n",
    "\n",
    "We compare each city's **average search interest** (from earlier) with its **population** using a scatterplot.\n",
    "\n",
    "> 🔍 Note: Normalized search interest means each band's scores are scaled relative to The Beatles' max UK interest. Still, since we're averaging across time, **bands with consistent long-term interest** may end up ranked higher than bands with one very high but brief spike — like The Beatles."
   ]
  },
  {
   "cell_type": "code",
   "execution_count": null,
   "id": "2f533b84",
   "metadata": {},
   "outputs": [],
   "source": [
    "# 📊 Scatterplot: Population vs Cultural Impact\n",
    "city_pop = {\n",
    "    \"London\": 9.65,\n",
    "    \"Birmingham\": 2.64,\n",
    "    \"Manchester\": 2.87,\n",
    "    \"Glasgow\": 1.65,\n",
    "    \"Liverpool\": 1.53,\n",
    "    \"Leeds\": 1.88,\n",
    "    \"Sheffield\": 1.57,\n",
    "    \"Bradford\": 1.40,\n",
    "    \"Bristol\": 0.72,\n",
    "    \"Nottingham\": 1.00\n",
    "}\n",
    "\n",
    "# Join population and cultural impact\n",
    "pop_series = pd.Series(city_pop)\n",
    "scatter_df = city_avg_df.join(pop_series.rename(\"Population\"), how=\"inner\")\n",
    "\n",
    "# Plot\n",
    "plt.figure(figsize=(8, 6))\n",
    "plt.scatter(scatter_df[\"Population\"], scatter_df[\"AvgSearchImpact\"], color=\"gray\", edgecolors=\"none\")\n",
    "\n",
    "# Add city labels\n",
    "for city, row in scatter_df.iterrows():\n",
    "    plt.text(row[\"Population\"] + 0.1, row[\"AvgSearchImpact\"], city, fontsize=9)\n",
    "\n",
    "# Style\n",
    "ax = plt.gca()\n",
    "for spine in ax.spines.values():\n",
    "    spine.set_visible(False)\n",
    "ax.tick_params(left=False, bottom=False)\n",
    "plt.xlabel(\"City Population (millions)\")\n",
    "plt.ylabel(\"Average Google Search Interest (Normalized)\")\n",
    "plt.title(\"Population vs Cultural Impact by City\")\n",
    "plt.tight_layout()\n",
    "plt.show()"
   ]
  }
 ],
 "metadata": {
  "kernelspec": {
   "display_name": "venv",
   "language": "python",
   "name": "python3"
  },
  "language_info": {
   "codemirror_mode": {
    "name": "ipython",
    "version": 3
   },
   "file_extension": ".py",
   "mimetype": "text/x-python",
   "name": "python",
   "nbconvert_exporter": "python",
   "pygments_lexer": "ipython3",
   "version": "3.13.1"
  }
 },
 "nbformat": 4,
 "nbformat_minor": 5
}
