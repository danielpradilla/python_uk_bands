{
 "cells": [
  {
   "cell_type": "markdown",
   "id": "4f147b85",
   "metadata": {},
   "source": [
    "# 🎶 UK City Bands – Google Trends Analysis (2019–2024)\n",
    "This notebook explores search interest in key UK bands by city of origin, using Google Trends data from the past 5 years. Each band's popularity is normalized using **The Beatles** as a reference anchor.\n",
    "\n",
    "Cities included: London, Birmingham, Manchester, Glasgow, Liverpool, Leeds, Sheffield, Bradford, Bristol, Nottingham."
   ]
  },
  {
   "cell_type": "code",
   "execution_count": 56,
   "id": "2a31bf74",
   "metadata": {},
   "outputs": [],
   "source": [
    "from pytrends.request import TrendReq\n",
    "from pytrends.exceptions import ResponseError\n",
    "import pandas as pd\n",
    "import time\n",
    "import random\n",
    "import matplotlib.pyplot as plt\n",
    "import os\n",
    "from requests.exceptions import HTTPError"
   ]
  },
  {
   "cell_type": "code",
   "execution_count": 2,
   "id": "8bda9276",
   "metadata": {},
   "outputs": [],
   "source": [
    "# 🔁 Extract band list from city dictionary\n",
    "bands_by_city = {\n",
    "    \"London\": [\"The Rolling Stones\", \"The Clash\", \"Blur\", \"Coldplay\", \"Florence and the Machine\"],\n",
    "    \"Birmingham\": [\"Black Sabbath\", \"ELO\", \"Duran Duran\", \"UB40\", \"Editors\"],\n",
    "    \"Manchester\": [\"Oasis\", \"The Smiths\", \"New Order\", \"The Stone Roses\", \"The 1975\"],\n",
    "    \"Glasgow\": [\"Simple Minds\", \"Primal Scream\", \"Belle and Sebastian\", \"Franz Ferdinand\", \"CHVRCHES\"],\n",
    "    \"Liverpool\": [\"The Beatles\", \"Echo & the Bunnymen\", \"Frankie Goes to Hollywood\", \"The La's\", \"The Wombats\"],\n",
    "    \"Leeds\": [\"Kaiser Chiefs\", \"Soft Cell\", \"Alt-J\", \"Sisters of Mercy\", \"The Wedding Present\"],\n",
    "    \"Sheffield\": [\"Def Leppard\", \"The Human League\", \"Pulp\", \"Arctic Monkeys\", \"Bring Me The Horizon\"],\n",
    "    \"Bradford\": [\"Smokie\", \"Tasmin Archer\", \"Kiki Dee\", \"Ivyrise\", \"The Cult\"],\n",
    "    \"Bristol\": [\"Massive Attack\", \"Portishead\", \"Tricky\", \"Idles\", \"Kosheen\"],\n",
    "    \"Nottingham\": [\"Jake Bugg\", \"Dog Is Dead\", \"London Grammar\", \"Ten Years After\", \"Sleaford Mods\"]\n",
    "}\n",
    "all_bands = sorted(set(b for bands in bands_by_city.values() for b in bands))"
   ]
  },
  {
   "cell_type": "code",
   "execution_count": null,
   "id": "1a1c9f3b",
   "metadata": {},
   "outputs": [
    {
     "name": "stdout",
     "output_type": "stream",
     "text": [
      "❌ Black Sabbath: ('Connection aborted.', ConnectionResetError(54, 'Connection reset by peer'))\n",
      "❌ Kosheen: ('Connection aborted.', ConnectionResetError(54, 'Connection reset by peer'))\n",
      "❌ Simple Minds: ('Connection aborted.', ConnectionResetError(54, 'Connection reset by peer'))\n"
     ]
    },
    {
     "data": {
      "application/vnd.microsoft.datawrangler.viewer.v0+json": {
       "columns": [
        {
         "name": "index",
         "rawType": "int64",
         "type": "integer"
        },
        {
         "name": "band",
         "rawType": "object",
         "type": "string"
        },
        {
         "name": "mid",
         "rawType": "object",
         "type": "string"
        },
        {
         "name": "title",
         "rawType": "object",
         "type": "string"
        },
        {
         "name": "type",
         "rawType": "object",
         "type": "string"
        }
       ],
       "ref": "c3e8476d-643d-425d-9e4a-ca6c4e33d2ac",
       "rows": [
        [
         "0",
         "Alt-J",
         "/m/0k3lyz1",
         "alt-J",
         "Rock band"
        ],
        [
         "1",
         "Arctic Monkeys",
         "/m/05q_9w",
         "Arctic Monkeys",
         "Rock band"
        ],
        [
         "2",
         "Belle and Sebastian",
         "/m/01cng",
         "Belle and Sebastian",
         "Pop band"
        ],
        [
         "3",
         "Blur",
         "/m/0bt8c",
         "Blur",
         "Band"
        ],
        [
         "4",
         "Bring Me The Horizon",
         "/m/0l030d",
         "Bring Me The Horizon",
         "Rock band"
        ]
       ],
       "shape": {
        "columns": 4,
        "rows": 5
       }
      },
      "text/html": [
       "<div>\n",
       "<style scoped>\n",
       "    .dataframe tbody tr th:only-of-type {\n",
       "        vertical-align: middle;\n",
       "    }\n",
       "\n",
       "    .dataframe tbody tr th {\n",
       "        vertical-align: top;\n",
       "    }\n",
       "\n",
       "    .dataframe thead th {\n",
       "        text-align: right;\n",
       "    }\n",
       "</style>\n",
       "<table border=\"1\" class=\"dataframe\">\n",
       "  <thead>\n",
       "    <tr style=\"text-align: right;\">\n",
       "      <th></th>\n",
       "      <th>band</th>\n",
       "      <th>mid</th>\n",
       "      <th>title</th>\n",
       "      <th>type</th>\n",
       "    </tr>\n",
       "  </thead>\n",
       "  <tbody>\n",
       "    <tr>\n",
       "      <th>0</th>\n",
       "      <td>Alt-J</td>\n",
       "      <td>/m/0k3lyz1</td>\n",
       "      <td>alt-J</td>\n",
       "      <td>Rock band</td>\n",
       "    </tr>\n",
       "    <tr>\n",
       "      <th>1</th>\n",
       "      <td>Arctic Monkeys</td>\n",
       "      <td>/m/05q_9w</td>\n",
       "      <td>Arctic Monkeys</td>\n",
       "      <td>Rock band</td>\n",
       "    </tr>\n",
       "    <tr>\n",
       "      <th>2</th>\n",
       "      <td>Belle and Sebastian</td>\n",
       "      <td>/m/01cng</td>\n",
       "      <td>Belle and Sebastian</td>\n",
       "      <td>Pop band</td>\n",
       "    </tr>\n",
       "    <tr>\n",
       "      <th>3</th>\n",
       "      <td>Blur</td>\n",
       "      <td>/m/0bt8c</td>\n",
       "      <td>Blur</td>\n",
       "      <td>Band</td>\n",
       "    </tr>\n",
       "    <tr>\n",
       "      <th>4</th>\n",
       "      <td>Bring Me The Horizon</td>\n",
       "      <td>/m/0l030d</td>\n",
       "      <td>Bring Me The Horizon</td>\n",
       "      <td>Rock band</td>\n",
       "    </tr>\n",
       "  </tbody>\n",
       "</table>\n",
       "</div>"
      ],
      "text/plain": [
       "                   band         mid                 title       type\n",
       "0                 Alt-J  /m/0k3lyz1                 alt-J  Rock band\n",
       "1        Arctic Monkeys   /m/05q_9w        Arctic Monkeys  Rock band\n",
       "2   Belle and Sebastian    /m/01cng   Belle and Sebastian   Pop band\n",
       "3                  Blur    /m/0bt8c                  Blur       Band\n",
       "4  Bring Me The Horizon   /m/0l030d  Bring Me The Horizon  Rock band"
      ]
     },
     "execution_count": 28,
     "metadata": {},
     "output_type": "execute_result"
    }
   ],
   "source": [
    "# fallback aliases to help suggestions (optional)\n",
    "alias = {\n",
    "    \"ELO\": \"Electric Light Orchestra\",\n",
    "    \"Alt-J\": \"alt-J\",\n",
    "    \"CHVRCHES\": \"Chvrches\",\n",
    "    \"Editors\": \"Editors band\",\n",
    "    \"Pulp\": \"Pulp band\",\n",
    "    \"Idles\": \"Idles band\",\n",
    "    \"Smokie\": \"Smokie band\",\n",
    "}\n",
    "\n",
    "# acceptable types in descending priority\n",
    "ACCEPT_TYPES = [\n",
    "    \"Band\", \"Rock band\", \"Pop band\", \"Musical group\", \"Music group\", \"Indie rock band\",\n",
    "    \"Singer\", \"Singer-songwriter\", \"Artist\"\n",
    "]\n",
    "\n",
    "CACHE_CSV = \"band_topics.csv\"\n",
    "\n",
    "# ---- Load cache if available ----\n",
    "if os.path.exists(CACHE_CSV):\n",
    "    print(f\"📁 Using existing {CACHE_CSV}\")\n",
    "    df_topics = pd.read_csv(CACHE_CSV)\n",
    "else:\n",
    "    print(\"⚠️ Cache not found. Fetching from Google Trends...\")\n",
    "    df_topics = pd.DataFrame(columns=[\"band\",\"mid\",\"title\",\"type\"])\n",
    "\n",
    "# ---- Check for missing bands ----\n",
    "have = set(df_topics[\"band\"])\n",
    "missing = [b for b in all_bands if b not in have]\n",
    "\n",
    "if missing:\n",
    "    print(f\"🔎 Fetching {len(missing)} missing bands from Google Trends…\")\n",
    "    pytrends = TrendReq(hl=\"en-US\", tz=0, timeout=(10, 25))\n",
    "    records = df_topics.to_dict(\"records\")\n",
    "\n",
    "    for band in missing:\n",
    "        q = alias.get(band, band)\n",
    "        try:\n",
    "            sugg = pytrends.suggestions(q) or []\n",
    "            # pick best by priority\n",
    "            pick = None\n",
    "            by_type = {s[\"type\"]: s for s in sugg if \"type\" in s and \"mid\" in s}\n",
    "            for t in ACCEPT_TYPES:\n",
    "                if t in by_type:\n",
    "                    pick = by_type[t]\n",
    "                    break\n",
    "            if pick is None:\n",
    "                pick = next((s for s in sugg if \"band\" in s.get(\"type\",\"\").lower()), None)\n",
    "            if pick is None and sugg:\n",
    "                pick = sugg[0]\n",
    "            if pick:\n",
    "                records.append({\n",
    "                    \"band\": band,\n",
    "                    \"mid\": pick[\"mid\"],\n",
    "                    \"title\": pick.get(\"title\", band),\n",
    "                    \"type\": pick.get(\"type\",\"\")\n",
    "                })\n",
    "            else:\n",
    "                print(f\"⚠️ No topic for {band}\")\n",
    "        except Exception as e:\n",
    "            print(f\"❌ {band}: {e}\")\n",
    "        time.sleep(2.5)  # slow down to avoid blocks\n",
    "\n",
    "    df_topics = pd.DataFrame(records).drop_duplicates(subset=[\"band\"], keep=\"first\").sort_values(\"band\")\n",
    "    df_topics.to_csv(CACHE_CSV, index=False)\n",
    "    print(f\"💾 Updated {CACHE_CSV}\")\n",
    "else:\n",
    "    print(\"✅ All bands already cached\")\n",
    "\n",
    "df_topics.head()"
   ]
  },
  {
   "cell_type": "code",
   "execution_count": 39,
   "id": "bb0868ca",
   "metadata": {},
   "outputs": [
    {
     "data": {
      "text/plain": [
       "[{'mid': '/g/11w_hjng6d', 'title': 'Simple Minds', 'type': 'Event'},\n",
       " {'mid': '/g/11lzx1lyxx', 'title': 'Simple Minds', 'type': 'Topic'},\n",
       " {'mid': '/g/11y8h4q4xh', 'title': 'Simple Minds', 'type': 'Event'},\n",
       " {'mid': '/m/016vj5', 'title': 'Simple Minds', 'type': 'Rock band'},\n",
       " {'mid': '/g/11wn5z8b17',\n",
       "  'title': 'Simple Minds at Freilichtbuhne Loreley',\n",
       "  'type': 'Event'}]"
      ]
     },
     "execution_count": 39,
     "metadata": {},
     "output_type": "execute_result"
    }
   ],
   "source": [
    "pytrends = TrendReq(hl=\"en-US\", tz=0)\n",
    "\n",
    "pytrends.suggestions(\"Simple Minds\")"
   ]
  },
  {
   "cell_type": "code",
   "execution_count": 38,
   "id": "0106d42c",
   "metadata": {},
   "outputs": [
    {
     "name": "stderr",
     "output_type": "stream",
     "text": [
      "/Users/dpradilla/dev/python_uk_bands/venv/lib/python3.13/site-packages/pytrends/request.py:260: FutureWarning: Downcasting object dtype arrays on .fillna, .ffill, .bfill is deprecated and will change in a future version. Call result.infer_objects(copy=False) instead. To opt-in to the future behavior, set `pd.set_option('future.no_silent_downcasting', True)`\n",
      "  df = df.fillna(False)\n"
     ]
    },
    {
     "data": {
      "application/vnd.microsoft.datawrangler.viewer.v0+json": {
       "columns": [
        {
         "name": "date",
         "rawType": "datetime64[ns]",
         "type": "datetime"
        },
        {
         "name": "/m/01czx",
         "rawType": "int64",
         "type": "integer"
        },
        {
         "name": "isPartial",
         "rawType": "bool",
         "type": "boolean"
        }
       ],
       "ref": "d7efc1a4-153e-41ae-a896-40b009504722",
       "rows": [
        [
         "2020-08-23 00:00:00",
         "4",
         "False"
        ],
        [
         "2020-08-30 00:00:00",
         "4",
         "False"
        ],
        [
         "2020-09-06 00:00:00",
         "5",
         "False"
        ],
        [
         "2020-09-13 00:00:00",
         "5",
         "False"
        ],
        [
         "2020-09-20 00:00:00",
         "4",
         "False"
        ]
       ],
       "shape": {
        "columns": 2,
        "rows": 5
       }
      },
      "text/html": [
       "<div>\n",
       "<style scoped>\n",
       "    .dataframe tbody tr th:only-of-type {\n",
       "        vertical-align: middle;\n",
       "    }\n",
       "\n",
       "    .dataframe tbody tr th {\n",
       "        vertical-align: top;\n",
       "    }\n",
       "\n",
       "    .dataframe thead th {\n",
       "        text-align: right;\n",
       "    }\n",
       "</style>\n",
       "<table border=\"1\" class=\"dataframe\">\n",
       "  <thead>\n",
       "    <tr style=\"text-align: right;\">\n",
       "      <th></th>\n",
       "      <th>/m/01czx</th>\n",
       "      <th>isPartial</th>\n",
       "    </tr>\n",
       "    <tr>\n",
       "      <th>date</th>\n",
       "      <th></th>\n",
       "      <th></th>\n",
       "    </tr>\n",
       "  </thead>\n",
       "  <tbody>\n",
       "    <tr>\n",
       "      <th>2020-08-23</th>\n",
       "      <td>4</td>\n",
       "      <td>False</td>\n",
       "    </tr>\n",
       "    <tr>\n",
       "      <th>2020-08-30</th>\n",
       "      <td>4</td>\n",
       "      <td>False</td>\n",
       "    </tr>\n",
       "    <tr>\n",
       "      <th>2020-09-06</th>\n",
       "      <td>5</td>\n",
       "      <td>False</td>\n",
       "    </tr>\n",
       "    <tr>\n",
       "      <th>2020-09-13</th>\n",
       "      <td>5</td>\n",
       "      <td>False</td>\n",
       "    </tr>\n",
       "    <tr>\n",
       "      <th>2020-09-20</th>\n",
       "      <td>4</td>\n",
       "      <td>False</td>\n",
       "    </tr>\n",
       "  </tbody>\n",
       "</table>\n",
       "</div>"
      ],
      "text/plain": [
       "            /m/01czx  isPartial\n",
       "date                           \n",
       "2020-08-23         4      False\n",
       "2020-08-30         4      False\n",
       "2020-09-06         5      False\n",
       "2020-09-13         5      False\n",
       "2020-09-20         4      False"
      ]
     },
     "execution_count": 38,
     "metadata": {},
     "output_type": "execute_result"
    }
   ],
   "source": [
    "pytrends = TrendReq(hl=\"en-US\", tz=0)\n",
    "pytrends.build_payload(\n",
    "    kw_list=[\"/m/01czx\"],   # this is the topic ID for Taylor Swift\n",
    "    cat=0,\n",
    "    timeframe=\"today 5-y\",\n",
    "    geo=\"\",\n",
    "    gprop=\"\"\n",
    ")\n",
    "df = pytrends.interest_over_time()\n",
    "df.head()"
   ]
  },
  {
   "cell_type": "code",
   "execution_count": 40,
   "id": "f2d192b9",
   "metadata": {},
   "outputs": [
    {
     "name": "stderr",
     "output_type": "stream",
     "text": [
      "/Users/dpradilla/dev/python_uk_bands/venv/lib/python3.13/site-packages/pytrends/request.py:260: FutureWarning: Downcasting object dtype arrays on .fillna, .ffill, .bfill is deprecated and will change in a future version. Call result.infer_objects(copy=False) instead. To opt-in to the future behavior, set `pd.set_option('future.no_silent_downcasting', True)`\n",
      "  df = df.fillna(False)\n",
      "/Users/dpradilla/dev/python_uk_bands/venv/lib/python3.13/site-packages/pytrends/request.py:260: FutureWarning: Downcasting object dtype arrays on .fillna, .ffill, .bfill is deprecated and will change in a future version. Call result.infer_objects(copy=False) instead. To opt-in to the future behavior, set `pd.set_option('future.no_silent_downcasting', True)`\n",
      "  df = df.fillna(False)\n",
      "/Users/dpradilla/dev/python_uk_bands/venv/lib/python3.13/site-packages/pytrends/request.py:260: FutureWarning: Downcasting object dtype arrays on .fillna, .ffill, .bfill is deprecated and will change in a future version. Call result.infer_objects(copy=False) instead. To opt-in to the future behavior, set `pd.set_option('future.no_silent_downcasting', True)`\n",
      "  df = df.fillna(False)\n",
      "/Users/dpradilla/dev/python_uk_bands/venv/lib/python3.13/site-packages/pytrends/request.py:260: FutureWarning: Downcasting object dtype arrays on .fillna, .ffill, .bfill is deprecated and will change in a future version. Call result.infer_objects(copy=False) instead. To opt-in to the future behavior, set `pd.set_option('future.no_silent_downcasting', True)`\n",
      "  df = df.fillna(False)\n",
      "/Users/dpradilla/dev/python_uk_bands/venv/lib/python3.13/site-packages/pytrends/request.py:260: FutureWarning: Downcasting object dtype arrays on .fillna, .ffill, .bfill is deprecated and will change in a future version. Call result.infer_objects(copy=False) instead. To opt-in to the future behavior, set `pd.set_option('future.no_silent_downcasting', True)`\n",
      "  df = df.fillna(False)\n",
      "/Users/dpradilla/dev/python_uk_bands/venv/lib/python3.13/site-packages/pytrends/request.py:260: FutureWarning: Downcasting object dtype arrays on .fillna, .ffill, .bfill is deprecated and will change in a future version. Call result.infer_objects(copy=False) instead. To opt-in to the future behavior, set `pd.set_option('future.no_silent_downcasting', True)`\n",
      "  df = df.fillna(False)\n",
      "/Users/dpradilla/dev/python_uk_bands/venv/lib/python3.13/site-packages/pytrends/request.py:260: FutureWarning: Downcasting object dtype arrays on .fillna, .ffill, .bfill is deprecated and will change in a future version. Call result.infer_objects(copy=False) instead. To opt-in to the future behavior, set `pd.set_option('future.no_silent_downcasting', True)`\n",
      "  df = df.fillna(False)\n",
      "/Users/dpradilla/dev/python_uk_bands/venv/lib/python3.13/site-packages/pytrends/request.py:260: FutureWarning: Downcasting object dtype arrays on .fillna, .ffill, .bfill is deprecated and will change in a future version. Call result.infer_objects(copy=False) instead. To opt-in to the future behavior, set `pd.set_option('future.no_silent_downcasting', True)`\n",
      "  df = df.fillna(False)\n",
      "/Users/dpradilla/dev/python_uk_bands/venv/lib/python3.13/site-packages/pytrends/request.py:260: FutureWarning: Downcasting object dtype arrays on .fillna, .ffill, .bfill is deprecated and will change in a future version. Call result.infer_objects(copy=False) instead. To opt-in to the future behavior, set `pd.set_option('future.no_silent_downcasting', True)`\n",
      "  df = df.fillna(False)\n",
      "/Users/dpradilla/dev/python_uk_bands/venv/lib/python3.13/site-packages/pytrends/request.py:260: FutureWarning: Downcasting object dtype arrays on .fillna, .ffill, .bfill is deprecated and will change in a future version. Call result.infer_objects(copy=False) instead. To opt-in to the future behavior, set `pd.set_option('future.no_silent_downcasting', True)`\n",
      "  df = df.fillna(False)\n",
      "/Users/dpradilla/dev/python_uk_bands/venv/lib/python3.13/site-packages/pytrends/request.py:260: FutureWarning: Downcasting object dtype arrays on .fillna, .ffill, .bfill is deprecated and will change in a future version. Call result.infer_objects(copy=False) instead. To opt-in to the future behavior, set `pd.set_option('future.no_silent_downcasting', True)`\n",
      "  df = df.fillna(False)\n",
      "/Users/dpradilla/dev/python_uk_bands/venv/lib/python3.13/site-packages/pytrends/request.py:260: FutureWarning: Downcasting object dtype arrays on .fillna, .ffill, .bfill is deprecated and will change in a future version. Call result.infer_objects(copy=False) instead. To opt-in to the future behavior, set `pd.set_option('future.no_silent_downcasting', True)`\n",
      "  df = df.fillna(False)\n",
      "/Users/dpradilla/dev/python_uk_bands/venv/lib/python3.13/site-packages/pytrends/request.py:260: FutureWarning: Downcasting object dtype arrays on .fillna, .ffill, .bfill is deprecated and will change in a future version. Call result.infer_objects(copy=False) instead. To opt-in to the future behavior, set `pd.set_option('future.no_silent_downcasting', True)`\n",
      "  df = df.fillna(False)\n"
     ]
    },
    {
     "name": "stdout",
     "output_type": "stream",
     "text": [
      "💾 Saved google_trends_band_interest.csv\n"
     ]
    },
    {
     "data": {
      "application/vnd.microsoft.datawrangler.viewer.v0+json": {
       "columns": [
        {
         "name": "date",
         "rawType": "datetime64[ns]",
         "type": "datetime"
        },
        {
         "name": "The Beatles",
         "rawType": "float64",
         "type": "float"
        },
        {
         "name": "Alt-J",
         "rawType": "float64",
         "type": "float"
        },
        {
         "name": "Arctic Monkeys",
         "rawType": "float64",
         "type": "float"
        },
        {
         "name": "Belle and Sebastian",
         "rawType": "float64",
         "type": "float"
        },
        {
         "name": "Black Sabbath",
         "rawType": "float64",
         "type": "float"
        },
        {
         "name": "Blur",
         "rawType": "float64",
         "type": "float"
        },
        {
         "name": "Bring Me The Horizon",
         "rawType": "float64",
         "type": "float"
        },
        {
         "name": "CHVRCHES",
         "rawType": "float64",
         "type": "float"
        },
        {
         "name": "Coldplay",
         "rawType": "float64",
         "type": "float"
        },
        {
         "name": "Def Leppard",
         "rawType": "float64",
         "type": "float"
        },
        {
         "name": "Dog Is Dead",
         "rawType": "float64",
         "type": "float"
        },
        {
         "name": "Duran Duran",
         "rawType": "float64",
         "type": "float"
        },
        {
         "name": "ELO",
         "rawType": "float64",
         "type": "float"
        },
        {
         "name": "Echo & the Bunnymen",
         "rawType": "float64",
         "type": "float"
        },
        {
         "name": "Editors",
         "rawType": "float64",
         "type": "float"
        },
        {
         "name": "Florence and the Machine",
         "rawType": "float64",
         "type": "float"
        },
        {
         "name": "Frankie Goes to Hollywood",
         "rawType": "float64",
         "type": "float"
        },
        {
         "name": "Franz Ferdinand",
         "rawType": "float64",
         "type": "float"
        },
        {
         "name": "Idles",
         "rawType": "float64",
         "type": "float"
        },
        {
         "name": "Ivyrise",
         "rawType": "float64",
         "type": "float"
        },
        {
         "name": "Jake Bugg",
         "rawType": "float64",
         "type": "float"
        },
        {
         "name": "Kaiser Chiefs",
         "rawType": "float64",
         "type": "float"
        },
        {
         "name": "Kiki Dee",
         "rawType": "float64",
         "type": "float"
        },
        {
         "name": "Kosheen",
         "rawType": "float64",
         "type": "float"
        },
        {
         "name": "London Grammar",
         "rawType": "float64",
         "type": "float"
        },
        {
         "name": "Massive Attack",
         "rawType": "float64",
         "type": "float"
        },
        {
         "name": "New Order",
         "rawType": "float64",
         "type": "float"
        },
        {
         "name": "Oasis",
         "rawType": "float64",
         "type": "float"
        },
        {
         "name": "Portishead",
         "rawType": "float64",
         "type": "float"
        },
        {
         "name": "Primal Scream",
         "rawType": "float64",
         "type": "float"
        },
        {
         "name": "Pulp",
         "rawType": "float64",
         "type": "float"
        },
        {
         "name": "Simple Minds",
         "rawType": "float64",
         "type": "float"
        },
        {
         "name": "Sisters of Mercy",
         "rawType": "float64",
         "type": "float"
        },
        {
         "name": "Sleaford Mods",
         "rawType": "float64",
         "type": "float"
        },
        {
         "name": "Smokie",
         "rawType": "float64",
         "type": "float"
        },
        {
         "name": "Soft Cell",
         "rawType": "float64",
         "type": "float"
        },
        {
         "name": "Tasmin Archer",
         "rawType": "float64",
         "type": "float"
        },
        {
         "name": "Ten Years After",
         "rawType": "float64",
         "type": "float"
        },
        {
         "name": "The 1975",
         "rawType": "float64",
         "type": "float"
        },
        {
         "name": "The Clash",
         "rawType": "float64",
         "type": "float"
        },
        {
         "name": "The Cult",
         "rawType": "float64",
         "type": "float"
        },
        {
         "name": "The Human League",
         "rawType": "float64",
         "type": "float"
        },
        {
         "name": "The La's",
         "rawType": "float64",
         "type": "float"
        },
        {
         "name": "The Rolling Stones",
         "rawType": "float64",
         "type": "float"
        },
        {
         "name": "The Smiths",
         "rawType": "float64",
         "type": "float"
        },
        {
         "name": "The Stone Roses",
         "rawType": "float64",
         "type": "float"
        },
        {
         "name": "The Wedding Present",
         "rawType": "float64",
         "type": "float"
        },
        {
         "name": "The Wombats",
         "rawType": "float64",
         "type": "float"
        },
        {
         "name": "Tricky",
         "rawType": "float64",
         "type": "float"
        },
        {
         "name": "UB40",
         "rawType": "float64",
         "type": "float"
        }
       ],
       "ref": "2bdef194-d89b-4106-adca-e4bb3b16af0e",
       "rows": [
        [
         "2020-08-23 00:00:00",
         "15.384615384615385",
         "0.0",
         "4.615384615384616",
         "0.0",
         "1.5384615384615385",
         "1.5384615384615385",
         "1.5384615384615385",
         "0.0",
         "3.076923076923077",
         "1.5384615384615385",
         "0.0",
         "4.615384615384616",
         "3.076923076923077",
         "0.0",
         "0.0",
         "1.5384615384615385",
         "1.5384615384615385",
         "0.0",
         "7.6923076923076925",
         "0.0",
         "1.5384615384615385",
         "3.076923076923077",
         "1.5384615384615385",
         "0.0",
         "1.5384615384615385",
         "0.0",
         "0.0",
         "0.0",
         "0.0",
         "1.5384615384615385",
         "1.5384615384615385",
         "1.5384615384615385",
         "0.0",
         "0.0",
         "0.0",
         "0.0",
         "0.0",
         "0.0",
         "4.615384615384616",
         "3.076923076923077",
         "0.0",
         "1.5384615384615385",
         "0.0",
         "0.0",
         "3.076923076923077",
         "3.076923076923077",
         "0.0",
         "0.0",
         "0.0",
         "4.615384615384616"
        ],
        [
         "2020-08-30 00:00:00",
         "16.923076923076923",
         "0.0",
         "4.615384615384616",
         "0.0",
         "1.5384615384615385",
         "1.5384615384615385",
         "1.5384615384615385",
         "0.0",
         "3.076923076923077",
         "1.5384615384615385",
         "0.0",
         "3.076923076923077",
         "3.076923076923077",
         "1.5384615384615385",
         "0.0",
         "1.5384615384615385",
         "1.5384615384615385",
         "0.0",
         "3.076923076923077",
         "0.0",
         "0.0",
         "3.076923076923077",
         "0.0",
         "0.0",
         "1.5384615384615385",
         "0.0",
         "0.0",
         "0.0",
         "0.0",
         "1.5384615384615385",
         "1.5384615384615385",
         "1.5384615384615385",
         "0.0",
         "0.0",
         "0.0",
         "1.5384615384615385",
         "0.0",
         "0.0",
         "4.615384615384616",
         "3.076923076923077",
         "0.0",
         "1.5384615384615385",
         "0.0",
         "0.0",
         "3.076923076923077",
         "4.615384615384616",
         "0.0",
         "0.0",
         "0.0",
         "3.076923076923077"
        ],
        [
         "2020-09-06 00:00:00",
         "15.384615384615385",
         "0.0",
         "4.615384615384616",
         "0.0",
         "1.5384615384615385",
         "1.5384615384615385",
         "1.5384615384615385",
         "0.0",
         "3.076923076923077",
         "1.5384615384615385",
         "0.0",
         "3.076923076923077",
         "3.076923076923077",
         "0.0",
         "0.0",
         "1.5384615384615385",
         "0.0",
         "0.0",
         "3.076923076923077",
         "0.0",
         "1.5384615384615385",
         "1.5384615384615385",
         "0.0",
         "0.0",
         "1.5384615384615385",
         "0.0",
         "0.0",
         "0.0",
         "0.0",
         "1.5384615384615385",
         "1.5384615384615385",
         "1.5384615384615385",
         "0.0",
         "0.0",
         "0.0",
         "0.0",
         "0.0",
         "0.0",
         "3.076923076923077",
         "1.5384615384615385",
         "1.5384615384615385",
         "1.5384615384615385",
         "0.0",
         "0.0",
         "3.076923076923077",
         "3.076923076923077",
         "0.0",
         "0.0",
         "0.0",
         "3.076923076923077"
        ],
        [
         "2020-09-13 00:00:00",
         "15.384615384615385",
         "0.0",
         "3.076923076923077",
         "0.0",
         "3.076923076923077",
         "1.5384615384615385",
         "1.5384615384615385",
         "0.0",
         "3.076923076923077",
         "1.5384615384615385",
         "0.0",
         "3.076923076923077",
         "3.076923076923077",
         "1.5384615384615385",
         "0.0",
         "1.5384615384615385",
         "0.0",
         "0.0",
         "3.076923076923077",
         "0.0",
         "0.0",
         "1.5384615384615385",
         "0.0",
         "0.0",
         "1.5384615384615385",
         "0.0",
         "0.0",
         "0.0",
         "0.0",
         "0.0",
         "1.5384615384615385",
         "1.5384615384615385",
         "0.0",
         "0.0",
         "0.0",
         "0.0",
         "0.0",
         "0.0",
         "3.076923076923077",
         "1.5384615384615385",
         "0.0",
         "1.5384615384615385",
         "0.0",
         "0.0",
         "3.076923076923077",
         "3.076923076923077",
         "0.0",
         "0.0",
         "0.0",
         "3.076923076923077"
        ],
        [
         "2020-09-20 00:00:00",
         "15.384615384615385",
         "0.0",
         "4.615384615384616",
         "0.0",
         "1.5384615384615385",
         "1.5384615384615385",
         "1.5384615384615385",
         "0.0",
         "3.076923076923077",
         "1.5384615384615385",
         "0.0",
         "3.076923076923077",
         "3.076923076923077",
         "0.0",
         "0.0",
         "1.5384615384615385",
         "1.5384615384615385",
         "0.0",
         "7.6923076923076925",
         "0.0",
         "1.5384615384615385",
         "1.5384615384615385",
         "0.0",
         "0.0",
         "4.615384615384616",
         "0.0",
         "0.0",
         "0.0",
         "0.0",
         "1.5384615384615385",
         "3.076923076923077",
         "1.5384615384615385",
         "0.0",
         "0.0",
         "0.0",
         "1.5384615384615385",
         "0.0",
         "0.0",
         "3.076923076923077",
         "3.076923076923077",
         "0.0",
         "3.076923076923077",
         "0.0",
         "0.0",
         "3.076923076923077",
         "3.076923076923077",
         "0.0",
         "0.0",
         "0.0",
         "3.076923076923077"
        ]
       ],
       "shape": {
        "columns": 50,
        "rows": 5
       }
      },
      "text/html": [
       "<div>\n",
       "<style scoped>\n",
       "    .dataframe tbody tr th:only-of-type {\n",
       "        vertical-align: middle;\n",
       "    }\n",
       "\n",
       "    .dataframe tbody tr th {\n",
       "        vertical-align: top;\n",
       "    }\n",
       "\n",
       "    .dataframe thead th {\n",
       "        text-align: right;\n",
       "    }\n",
       "</style>\n",
       "<table border=\"1\" class=\"dataframe\">\n",
       "  <thead>\n",
       "    <tr style=\"text-align: right;\">\n",
       "      <th></th>\n",
       "      <th>The Beatles</th>\n",
       "      <th>Alt-J</th>\n",
       "      <th>Arctic Monkeys</th>\n",
       "      <th>Belle and Sebastian</th>\n",
       "      <th>Black Sabbath</th>\n",
       "      <th>Blur</th>\n",
       "      <th>Bring Me The Horizon</th>\n",
       "      <th>CHVRCHES</th>\n",
       "      <th>Coldplay</th>\n",
       "      <th>Def Leppard</th>\n",
       "      <th>...</th>\n",
       "      <th>The Cult</th>\n",
       "      <th>The Human League</th>\n",
       "      <th>The La's</th>\n",
       "      <th>The Rolling Stones</th>\n",
       "      <th>The Smiths</th>\n",
       "      <th>The Stone Roses</th>\n",
       "      <th>The Wedding Present</th>\n",
       "      <th>The Wombats</th>\n",
       "      <th>Tricky</th>\n",
       "      <th>UB40</th>\n",
       "    </tr>\n",
       "    <tr>\n",
       "      <th>date</th>\n",
       "      <th></th>\n",
       "      <th></th>\n",
       "      <th></th>\n",
       "      <th></th>\n",
       "      <th></th>\n",
       "      <th></th>\n",
       "      <th></th>\n",
       "      <th></th>\n",
       "      <th></th>\n",
       "      <th></th>\n",
       "      <th></th>\n",
       "      <th></th>\n",
       "      <th></th>\n",
       "      <th></th>\n",
       "      <th></th>\n",
       "      <th></th>\n",
       "      <th></th>\n",
       "      <th></th>\n",
       "      <th></th>\n",
       "      <th></th>\n",
       "      <th></th>\n",
       "    </tr>\n",
       "  </thead>\n",
       "  <tbody>\n",
       "    <tr>\n",
       "      <th>2020-08-23</th>\n",
       "      <td>15.384615</td>\n",
       "      <td>0.0</td>\n",
       "      <td>4.615385</td>\n",
       "      <td>0.0</td>\n",
       "      <td>1.538462</td>\n",
       "      <td>1.538462</td>\n",
       "      <td>1.538462</td>\n",
       "      <td>0.0</td>\n",
       "      <td>3.076923</td>\n",
       "      <td>1.538462</td>\n",
       "      <td>...</td>\n",
       "      <td>0.000000</td>\n",
       "      <td>1.538462</td>\n",
       "      <td>0.0</td>\n",
       "      <td>0.0</td>\n",
       "      <td>3.076923</td>\n",
       "      <td>3.076923</td>\n",
       "      <td>0.0</td>\n",
       "      <td>0.0</td>\n",
       "      <td>0.0</td>\n",
       "      <td>4.615385</td>\n",
       "    </tr>\n",
       "    <tr>\n",
       "      <th>2020-08-30</th>\n",
       "      <td>16.923077</td>\n",
       "      <td>0.0</td>\n",
       "      <td>4.615385</td>\n",
       "      <td>0.0</td>\n",
       "      <td>1.538462</td>\n",
       "      <td>1.538462</td>\n",
       "      <td>1.538462</td>\n",
       "      <td>0.0</td>\n",
       "      <td>3.076923</td>\n",
       "      <td>1.538462</td>\n",
       "      <td>...</td>\n",
       "      <td>0.000000</td>\n",
       "      <td>1.538462</td>\n",
       "      <td>0.0</td>\n",
       "      <td>0.0</td>\n",
       "      <td>3.076923</td>\n",
       "      <td>4.615385</td>\n",
       "      <td>0.0</td>\n",
       "      <td>0.0</td>\n",
       "      <td>0.0</td>\n",
       "      <td>3.076923</td>\n",
       "    </tr>\n",
       "    <tr>\n",
       "      <th>2020-09-06</th>\n",
       "      <td>15.384615</td>\n",
       "      <td>0.0</td>\n",
       "      <td>4.615385</td>\n",
       "      <td>0.0</td>\n",
       "      <td>1.538462</td>\n",
       "      <td>1.538462</td>\n",
       "      <td>1.538462</td>\n",
       "      <td>0.0</td>\n",
       "      <td>3.076923</td>\n",
       "      <td>1.538462</td>\n",
       "      <td>...</td>\n",
       "      <td>1.538462</td>\n",
       "      <td>1.538462</td>\n",
       "      <td>0.0</td>\n",
       "      <td>0.0</td>\n",
       "      <td>3.076923</td>\n",
       "      <td>3.076923</td>\n",
       "      <td>0.0</td>\n",
       "      <td>0.0</td>\n",
       "      <td>0.0</td>\n",
       "      <td>3.076923</td>\n",
       "    </tr>\n",
       "    <tr>\n",
       "      <th>2020-09-13</th>\n",
       "      <td>15.384615</td>\n",
       "      <td>0.0</td>\n",
       "      <td>3.076923</td>\n",
       "      <td>0.0</td>\n",
       "      <td>3.076923</td>\n",
       "      <td>1.538462</td>\n",
       "      <td>1.538462</td>\n",
       "      <td>0.0</td>\n",
       "      <td>3.076923</td>\n",
       "      <td>1.538462</td>\n",
       "      <td>...</td>\n",
       "      <td>0.000000</td>\n",
       "      <td>1.538462</td>\n",
       "      <td>0.0</td>\n",
       "      <td>0.0</td>\n",
       "      <td>3.076923</td>\n",
       "      <td>3.076923</td>\n",
       "      <td>0.0</td>\n",
       "      <td>0.0</td>\n",
       "      <td>0.0</td>\n",
       "      <td>3.076923</td>\n",
       "    </tr>\n",
       "    <tr>\n",
       "      <th>2020-09-20</th>\n",
       "      <td>15.384615</td>\n",
       "      <td>0.0</td>\n",
       "      <td>4.615385</td>\n",
       "      <td>0.0</td>\n",
       "      <td>1.538462</td>\n",
       "      <td>1.538462</td>\n",
       "      <td>1.538462</td>\n",
       "      <td>0.0</td>\n",
       "      <td>3.076923</td>\n",
       "      <td>1.538462</td>\n",
       "      <td>...</td>\n",
       "      <td>0.000000</td>\n",
       "      <td>3.076923</td>\n",
       "      <td>0.0</td>\n",
       "      <td>0.0</td>\n",
       "      <td>3.076923</td>\n",
       "      <td>3.076923</td>\n",
       "      <td>0.0</td>\n",
       "      <td>0.0</td>\n",
       "      <td>0.0</td>\n",
       "      <td>3.076923</td>\n",
       "    </tr>\n",
       "  </tbody>\n",
       "</table>\n",
       "<p>5 rows × 50 columns</p>\n",
       "</div>"
      ],
      "text/plain": [
       "            The Beatles  Alt-J  Arctic Monkeys  Belle and Sebastian  \\\n",
       "date                                                                  \n",
       "2020-08-23    15.384615    0.0        4.615385                  0.0   \n",
       "2020-08-30    16.923077    0.0        4.615385                  0.0   \n",
       "2020-09-06    15.384615    0.0        4.615385                  0.0   \n",
       "2020-09-13    15.384615    0.0        3.076923                  0.0   \n",
       "2020-09-20    15.384615    0.0        4.615385                  0.0   \n",
       "\n",
       "            Black Sabbath      Blur  Bring Me The Horizon  CHVRCHES  Coldplay  \\\n",
       "date                                                                            \n",
       "2020-08-23       1.538462  1.538462              1.538462       0.0  3.076923   \n",
       "2020-08-30       1.538462  1.538462              1.538462       0.0  3.076923   \n",
       "2020-09-06       1.538462  1.538462              1.538462       0.0  3.076923   \n",
       "2020-09-13       3.076923  1.538462              1.538462       0.0  3.076923   \n",
       "2020-09-20       1.538462  1.538462              1.538462       0.0  3.076923   \n",
       "\n",
       "            Def Leppard  ...  The Cult  The Human League  The La's  \\\n",
       "date                     ...                                         \n",
       "2020-08-23     1.538462  ...  0.000000          1.538462       0.0   \n",
       "2020-08-30     1.538462  ...  0.000000          1.538462       0.0   \n",
       "2020-09-06     1.538462  ...  1.538462          1.538462       0.0   \n",
       "2020-09-13     1.538462  ...  0.000000          1.538462       0.0   \n",
       "2020-09-20     1.538462  ...  0.000000          3.076923       0.0   \n",
       "\n",
       "            The Rolling Stones  The Smiths  The Stone Roses  \\\n",
       "date                                                          \n",
       "2020-08-23                 0.0    3.076923         3.076923   \n",
       "2020-08-30                 0.0    3.076923         4.615385   \n",
       "2020-09-06                 0.0    3.076923         3.076923   \n",
       "2020-09-13                 0.0    3.076923         3.076923   \n",
       "2020-09-20                 0.0    3.076923         3.076923   \n",
       "\n",
       "            The Wedding Present  The Wombats  Tricky      UB40  \n",
       "date                                                            \n",
       "2020-08-23                  0.0          0.0     0.0  4.615385  \n",
       "2020-08-30                  0.0          0.0     0.0  3.076923  \n",
       "2020-09-06                  0.0          0.0     0.0  3.076923  \n",
       "2020-09-13                  0.0          0.0     0.0  3.076923  \n",
       "2020-09-20                  0.0          0.0     0.0  3.076923  \n",
       "\n",
       "[5 rows x 50 columns]"
      ]
     },
     "execution_count": 40,
     "metadata": {},
     "output_type": "execute_result"
    }
   ],
   "source": [
    "\n",
    "# load topics\n",
    "df_topics = pd.read_csv(\"band_topics.csv\")\n",
    "band_to_mid = dict(zip(df_topics[\"band\"], df_topics[\"mid\"]))\n",
    "\n",
    "# keyword fallback for ambiguous names\n",
    "kw_fallback = {\n",
    "    \"Pulp\": \"Pulp band\",\n",
    "    \"Editors\": \"Editors band\",\n",
    "    \"Idles\": \"Idles band\",\n",
    "    \"The Cult\": \"The Cult band\",\n",
    "    \"Smokie\": \"Smokie band\",\n",
    "    \"Alt-J\": \"alt-J band\",\n",
    "    \"CHVRCHES\": \"CHVRCHES band\",\n",
    "    \"Soft Cell\": \"Soft Cell band\",\n",
    "}\n",
    "\n",
    "def kw_for(band): return kw_fallback.get(band, band)\n",
    "\n",
    "anchor = \"The Beatles\"\n",
    "anchor_mid = band_to_mid.get(anchor)\n",
    "\n",
    "CACHE = \"google_trends_band_interest.csv\"\n",
    "if os.path.exists(CACHE):\n",
    "    print(f\"📁 Using existing {CACHE}\")\n",
    "    normalized_df = pd.read_csv(CACHE, index_col=0)\n",
    "else:\n",
    "    pytrends = TrendReq(hl=\"en-US\", tz=0)\n",
    "    batch_size = 4\n",
    "    frames = []\n",
    "\n",
    "    for i in range(0, len(all_bands), batch_size):\n",
    "        batch_bands = all_bands[i:i+batch_size]\n",
    "\n",
    "        # ---- attempt 1: topics only ----\n",
    "        mids = [band_to_mid[b] for b in batch_bands if b in band_to_mid]\n",
    "        if anchor_mid and anchor_mid not in mids:\n",
    "            mids = [anchor_mid] + mids\n",
    "        mids = list(dict.fromkeys(mids))\n",
    "        df = None\n",
    "\n",
    "        if len(mids) >= 2:\n",
    "            try:\n",
    "                pytrends.build_payload(kw_list=mids, timeframe=\"today 5-y\", geo=\"GB\", gprop=\"\")\n",
    "                df = pytrends.interest_over_time()\n",
    "                if df is not None and not df.empty:\n",
    "                    if \"isPartial\" in df.columns: df = df.drop(columns=[\"isPartial\"])\n",
    "                    # rename columns from mid->band\n",
    "                    mid_to_band = {band_to_mid[b]: b for b in batch_bands if b in band_to_mid}\n",
    "                    if anchor_mid: mid_to_band[anchor_mid] = anchor\n",
    "                    df = df.rename(columns=lambda c: mid_to_band.get(c, c))\n",
    "            except Exception as e:\n",
    "                df = None  # fall through to keywords\n",
    "\n",
    "        # ---- attempt 2: keyword fallback ----\n",
    "        if df is None or df.empty:\n",
    "            terms = [kw_for(b) for b in batch_bands]\n",
    "            if anchor not in terms: terms = [anchor] + terms\n",
    "            terms = list(dict.fromkeys(terms))\n",
    "            if len(terms) >= 2:\n",
    "                try:\n",
    "                    pytrends.build_payload(kw_list=terms, timeframe=\"today 5-y\", geo=\"GB\", gprop=\"\")\n",
    "                    df = pytrends.interest_over_time()\n",
    "                    if df is not None and not df.empty and \"isPartial\" in df.columns:\n",
    "                        df = df.drop(columns=[\"isPartial\"])\n",
    "                except Exception as e2:\n",
    "                    print(f\"❌ Skipping batch {batch_bands}: {e2}\")\n",
    "                    df = None\n",
    "\n",
    "        if df is not None and not df.empty:\n",
    "            frames.append(df)\n",
    "\n",
    "        time.sleep(1.2)\n",
    "\n",
    "    if not frames:\n",
    "        raise RuntimeError(\"No data returned from Google Trends.\")\n",
    "    merged_df = pd.concat(frames, axis=1)\n",
    "    merged_df = merged_df.loc[:, ~merged_df.columns.duplicated(keep=\"first\")]\n",
    "\n",
    "    # ensure anchor column exists\n",
    "    if anchor not in merged_df.columns:\n",
    "        raise RuntimeError(\"Anchor series 'The Beatles' not found in merged data (after rename/fallback).\")\n",
    "\n",
    "    # normalize so The Beatles peak = 100\n",
    "    anchor_max = merged_df[anchor].max()\n",
    "    if not pd.notna(anchor_max) or anchor_max <= 0:\n",
    "        raise RuntimeError(\"Anchor has no positive values; cannot normalize.\")\n",
    "    normalized_df = merged_df.div(anchor_max).mul(100)\n",
    "    normalized_df.to_csv(CACHE)\n",
    "    print(f\"💾 Saved {CACHE}\")\n",
    "\n",
    "normalized_df.head()"
   ]
  },
  {
   "cell_type": "code",
   "execution_count": 41,
   "id": "bda0b5d6",
   "metadata": {},
   "outputs": [
    {
     "name": "stdout",
     "output_type": "stream",
     "text": [
      "📁 Using cached google_trends_band_interest.csv\n"
     ]
    }
   ],
   "source": [
    "# 🧬 Normalize and save\n",
    "if os.path.exists(\"google_trends_band_interest.csv\"):\n",
    "    print(\"📁 Using cached google_trends_band_interest.csv\")\n",
    "    normalized_df = pd.read_csv(\"google_trends_band_interest.csv\", index_col=0)\n",
    "else:\n",
    "    # 🔁 This block only runs if data needs to be fetched and normalized\n",
    "    merged_df = pd.concat(batched_data, axis=1)\n",
    "    merged_df = merged_df.loc[:, ~merged_df.columns.duplicated()]\n",
    "    anchor_max = merged_df[anchor].max()\n",
    "    normalized_df = merged_df.div(anchor_max).multiply(100)\n",
    "    normalized_df.to_csv(\"google_trends_band_interest.csv\")\n"
   ]
  },
  {
   "cell_type": "markdown",
   "id": "fc6d0070",
   "metadata": {},
   "source": [
    "## 🌍 Global Interest Chart\n",
    "In addition to UK-only interest, this chart shows **global average search interest** over the past 5 years."
   ]
  },
  {
   "cell_type": "code",
   "execution_count": 57,
   "id": "88af4d32",
   "metadata": {},
   "outputs": [
    {
     "name": "stderr",
     "output_type": "stream",
     "text": [
      "/Users/dpradilla/dev/python_uk_bands/venv/lib/python3.13/site-packages/pytrends/request.py:260: FutureWarning: Downcasting object dtype arrays on .fillna, .ffill, .bfill is deprecated and will change in a future version. Call result.infer_objects(copy=False) instead. To opt-in to the future behavior, set `pd.set_option('future.no_silent_downcasting', True)`\n",
      "  df = df.fillna(False)\n",
      "/Users/dpradilla/dev/python_uk_bands/venv/lib/python3.13/site-packages/pytrends/request.py:260: FutureWarning: Downcasting object dtype arrays on .fillna, .ffill, .bfill is deprecated and will change in a future version. Call result.infer_objects(copy=False) instead. To opt-in to the future behavior, set `pd.set_option('future.no_silent_downcasting', True)`\n",
      "  df = df.fillna(False)\n",
      "/Users/dpradilla/dev/python_uk_bands/venv/lib/python3.13/site-packages/pytrends/request.py:260: FutureWarning: Downcasting object dtype arrays on .fillna, .ffill, .bfill is deprecated and will change in a future version. Call result.infer_objects(copy=False) instead. To opt-in to the future behavior, set `pd.set_option('future.no_silent_downcasting', True)`\n",
      "  df = df.fillna(False)\n",
      "/Users/dpradilla/dev/python_uk_bands/venv/lib/python3.13/site-packages/pytrends/request.py:260: FutureWarning: Downcasting object dtype arrays on .fillna, .ffill, .bfill is deprecated and will change in a future version. Call result.infer_objects(copy=False) instead. To opt-in to the future behavior, set `pd.set_option('future.no_silent_downcasting', True)`\n",
      "  df = df.fillna(False)\n",
      "/Users/dpradilla/dev/python_uk_bands/venv/lib/python3.13/site-packages/pytrends/request.py:260: FutureWarning: Downcasting object dtype arrays on .fillna, .ffill, .bfill is deprecated and will change in a future version. Call result.infer_objects(copy=False) instead. To opt-in to the future behavior, set `pd.set_option('future.no_silent_downcasting', True)`\n",
      "  df = df.fillna(False)\n",
      "/Users/dpradilla/dev/python_uk_bands/venv/lib/python3.13/site-packages/pytrends/request.py:260: FutureWarning: Downcasting object dtype arrays on .fillna, .ffill, .bfill is deprecated and will change in a future version. Call result.infer_objects(copy=False) instead. To opt-in to the future behavior, set `pd.set_option('future.no_silent_downcasting', True)`\n",
      "  df = df.fillna(False)\n",
      "/Users/dpradilla/dev/python_uk_bands/venv/lib/python3.13/site-packages/pytrends/request.py:260: FutureWarning: Downcasting object dtype arrays on .fillna, .ffill, .bfill is deprecated and will change in a future version. Call result.infer_objects(copy=False) instead. To opt-in to the future behavior, set `pd.set_option('future.no_silent_downcasting', True)`\n",
      "  df = df.fillna(False)\n",
      "/Users/dpradilla/dev/python_uk_bands/venv/lib/python3.13/site-packages/pytrends/request.py:260: FutureWarning: Downcasting object dtype arrays on .fillna, .ffill, .bfill is deprecated and will change in a future version. Call result.infer_objects(copy=False) instead. To opt-in to the future behavior, set `pd.set_option('future.no_silent_downcasting', True)`\n",
      "  df = df.fillna(False)\n",
      "/Users/dpradilla/dev/python_uk_bands/venv/lib/python3.13/site-packages/pytrends/request.py:260: FutureWarning: Downcasting object dtype arrays on .fillna, .ffill, .bfill is deprecated and will change in a future version. Call result.infer_objects(copy=False) instead. To opt-in to the future behavior, set `pd.set_option('future.no_silent_downcasting', True)`\n",
      "  df = df.fillna(False)\n",
      "/Users/dpradilla/dev/python_uk_bands/venv/lib/python3.13/site-packages/pytrends/request.py:260: FutureWarning: Downcasting object dtype arrays on .fillna, .ffill, .bfill is deprecated and will change in a future version. Call result.infer_objects(copy=False) instead. To opt-in to the future behavior, set `pd.set_option('future.no_silent_downcasting', True)`\n",
      "  df = df.fillna(False)\n",
      "/Users/dpradilla/dev/python_uk_bands/venv/lib/python3.13/site-packages/pytrends/request.py:260: FutureWarning: Downcasting object dtype arrays on .fillna, .ffill, .bfill is deprecated and will change in a future version. Call result.infer_objects(copy=False) instead. To opt-in to the future behavior, set `pd.set_option('future.no_silent_downcasting', True)`\n",
      "  df = df.fillna(False)\n",
      "/Users/dpradilla/dev/python_uk_bands/venv/lib/python3.13/site-packages/pytrends/request.py:260: FutureWarning: Downcasting object dtype arrays on .fillna, .ffill, .bfill is deprecated and will change in a future version. Call result.infer_objects(copy=False) instead. To opt-in to the future behavior, set `pd.set_option('future.no_silent_downcasting', True)`\n",
      "  df = df.fillna(False)\n",
      "/Users/dpradilla/dev/python_uk_bands/venv/lib/python3.13/site-packages/pytrends/request.py:260: FutureWarning: Downcasting object dtype arrays on .fillna, .ffill, .bfill is deprecated and will change in a future version. Call result.infer_objects(copy=False) instead. To opt-in to the future behavior, set `pd.set_option('future.no_silent_downcasting', True)`\n",
      "  df = df.fillna(False)\n"
     ]
    },
    {
     "name": "stdout",
     "output_type": "stream",
     "text": [
      "💾 Saved google_trends_global_band_interest.csv\n"
     ]
    }
   ],
   "source": [
    "# expects: all_bands, band_to_mid (from band_topics.csv), anchor=\"The Beatles\"\n",
    "# fallback disambiguation for keywords\n",
    "kw_fallback = {\n",
    "    \"Pulp\": \"Pulp band\", \"Editors\": \"Editors band\", \"Idles\": \"Idles band\",\n",
    "    \"The Cult\": \"The Cult band\", \"Smokie\": \"Smokie band\",\n",
    "    \"Alt-J\": \"alt-J band\", \"CHVRCHES\": \"CHVRCHES band\", \"Soft Cell\": \"Soft Cell band\",\n",
    "}\n",
    "\n",
    "def kw_for(b): return kw_fallback.get(b, b)\n",
    "\n",
    "GLOBAL_CACHE = \"google_trends_global_band_interest.csv\"\n",
    "\n",
    "if os.path.exists(GLOBAL_CACHE):\n",
    "    print(f\"📁 Using existing {GLOBAL_CACHE}\")\n",
    "    normalized_global = pd.read_csv(GLOBAL_CACHE, index_col=0)\n",
    "else:\n",
    "    pytrends = TrendReq(hl=\"en-US\", tz=0, timeout=(10, 25))\n",
    "    batch_size = 4\n",
    "    frames = []\n",
    "    anchor_mid = band_to_mid.get(anchor)\n",
    "\n",
    "    for i in range(0, len(all_bands), batch_size):\n",
    "        batch_bands = all_bands[i:i+batch_size]\n",
    "\n",
    "        # ---- Try topics (mids) only ----\n",
    "        mids = [band_to_mid[b] for b in batch_bands if b in band_to_mid]\n",
    "        if anchor_mid and anchor_mid not in mids:\n",
    "            mids = [anchor_mid] + mids\n",
    "        mids = list(dict.fromkeys(mids))\n",
    "\n",
    "        df = None\n",
    "        if len(mids) >= 2:\n",
    "            try:\n",
    "                pytrends.build_payload(kw_list=mids, timeframe=\"today 5-y\", geo=\"\")\n",
    "                df = pytrends.interest_over_time()\n",
    "                if df is not None and not df.empty:\n",
    "                    if \"isPartial\" in df.columns: df = df.drop(columns=[\"isPartial\"])\n",
    "                    # rename mid columns to band names\n",
    "                    mid_to_band = {band_to_mid[b]: b for b in batch_bands if b in band_to_mid}\n",
    "                    if anchor_mid: mid_to_band[anchor_mid] = anchor\n",
    "                    df = df.rename(columns=lambda c: mid_to_band.get(c, c))\n",
    "            except Exception:\n",
    "                df = None\n",
    "\n",
    "        # ---- Fallback: disambiguated keywords ----\n",
    "        if df is None or df.empty:\n",
    "            terms = [kw_for(b) for b in batch_bands]\n",
    "            if anchor not in terms: terms = [anchor] + terms\n",
    "            terms = list(dict.fromkeys(terms))\n",
    "            if len(terms) >= 2:\n",
    "                try:\n",
    "                    pytrends.build_payload(kw_list=terms, timeframe=\"today 5-y\", geo=\"\")\n",
    "                    df = pytrends.interest_over_time()\n",
    "                    if df is not None and not df.empty and \"isPartial\" in df.columns:\n",
    "                        df = df.drop(columns=[\"isPartial\"])\n",
    "                except Exception as e2:\n",
    "                    print(f\"❌ Skipping batch {batch_bands}: {e2}\")\n",
    "                    df = None\n",
    "\n",
    "        if df is not None and not df.empty:\n",
    "            frames.append(df)\n",
    "\n",
    "        time.sleep(random.uniform(2.5, 5.0))  # be gentle globally\n",
    "\n",
    "    if not frames:\n",
    "        raise RuntimeError(\"No global data returned (topics + keyword fallbacks failed).\")\n",
    "\n",
    "    global_df = pd.concat(frames, axis=1)\n",
    "    global_df = global_df.loc[:, ~global_df.columns.duplicated(keep=\"first\")]\n",
    "\n",
    "    if anchor not in global_df.columns:\n",
    "        raise RuntimeError(\"Anchor 'The Beatles' not found in global data.\")\n",
    "\n",
    "    # ✅ Normalize with scalar Beatles peak = 100 (not per-row series division)\n",
    "    beatles_peak = global_df[anchor].max()\n",
    "    if not pd.notna(beatles_peak) or beatles_peak <= 0:\n",
    "        raise RuntimeError(\"Beatles global series has no positive values; cannot normalize.\")\n",
    "\n",
    "    normalized_global = (global_df / beatles_peak) * 100\n",
    "    normalized_global.to_csv(GLOBAL_CACHE)\n",
    "    print(f\"💾 Saved {GLOBAL_CACHE}\")"
   ]
  },
  {
   "cell_type": "markdown",
   "id": "37650424",
   "metadata": {},
   "source": [
    "### 📊 Interpreting Normalized Google Trends Data\n",
    "\n",
    "Google Trends doesn’t give absolute search counts. Instead, it reports **relative search interest** on a scale from **0 to 100**:\n",
    "\n",
    "- **100 = the peak popularity** of a term in the selected time and region.  \n",
    "- All other values are relative to that peak (e.g. 50 = half as many searches as at the peak).  \n",
    "\n",
    "In our analysis we used **The Beatles** as an anchor. Their highest point of search activity in the last 5 years is set to **100**, and every other band is scaled relative to that moment.  \n",
    "\n",
    "What this means:  \n",
    "- The Beatles at their *biggest spike* = 100.  \n",
    "- The Beatles on most weeks are much lower (often 20–40).  \n",
    "- When we take the **average across 5 years**, The Beatles land around 30.  \n",
    "\n",
    "So why might **Pulp** or **Coldplay** appear above The Beatles in the charts?  \n",
    "- The Beatles’ search pattern is **spiky**: a huge surge around events (e.g. the *Get Back* documentary) but relatively quiet otherwise.  \n",
    "- Pulp’s searches are **flatter and more consistent**, so their *average* relative interest can look higher, even though their absolute peak never beats The Beatles.  \n",
    "\n",
    "👉 Key takeaway:  \n",
    "- **Peak interest** shows which band captured the largest single moment of attention.  \n",
    "- **Average interest** shows which bands sustain steady curiosity over time.  "
   ]
  },
  {
   "cell_type": "code",
   "execution_count": 66,
   "id": "ada985b7",
   "metadata": {},
   "outputs": [
    {
     "data": {
      "image/png": "[encoded data removed]",
      "text/plain": [
       "<Figure size 1000x600 with 1 Axes>"
      ]
     },
     "metadata": {},
     "output_type": "display_data"
    },
    {
     "data": {
      "image/png": "[encoded data removed]",
      "text/plain": [
       "<Figure size 1000x600 with 1 Axes>"
      ]
     },
     "metadata": {},
     "output_type": "display_data"
    }
   ],
   "source": [
    "# get shared max\n",
    "shared_max = max(top_20.max(), top_20_global.max())\n",
    "\n",
    "# 📊 Top 20 UK\n",
    "plt.figure(figsize=(10, 6))\n",
    "plt.barh(top_20.index[::-1], top_20.values[::-1], color=\"gray\", edgecolor=\"none\")\n",
    "ax = plt.gca()\n",
    "for spine in ax.spines.values():\n",
    "    spine.set_visible(False)\n",
    "ax.tick_params(left=False, bottom=False)\n",
    "plt.xlabel(\"Avg. Google Search Interest (Normalized)\")\n",
    "plt.title(\"Top 20 UK Bands by Google Search (5-Year Avg, UK)\")\n",
    "plt.xlim(0, shared_max)   # 🔑 same scale\n",
    "plt.tight_layout()\n",
    "plt.show()\n",
    "\n",
    "# 📊 Top 20 Global\n",
    "plt.figure(figsize=(10, 6))\n",
    "plt.barh(top_20_global.index[::-1], top_20_global.values[::-1], color=\"gray\", edgecolor=\"none\")\n",
    "ax = plt.gca()\n",
    "for spine in ax.spines.values():\n",
    "    spine.set_visible(False)\n",
    "ax.tick_params(left=False, bottom=False)\n",
    "plt.xlabel(\"Avg. Global Google Search Interest (Normalized)\")\n",
    "plt.title(\"Top 20 UK Bands by Global Search (5-Year Avg)\")\n",
    "plt.xlim(0, shared_max)   # 🔑 same scale\n",
    "plt.tight_layout()\n",
    "plt.show()"
   ]
  },
  {
   "cell_type": "markdown",
   "id": "84eecc1a",
   "metadata": {},
   "source": [
    "## 🏙️ Cultural Impact by City (Google Search Interest)\n",
    "We've been looking at bands individually, but the original question was: **which UK cities have the biggest cultural impact through music?**\n",
    "\n",
    "To answer that, we now aggregate normalized search interest by city, using the band–city mapping. This gives us a total cultural 'footprint' based on the popularity of each city's artists across the UK."
   ]
  },
  {
   "cell_type": "code",
   "execution_count": 59,
   "id": "d8e57389",
   "metadata": {},
   "outputs": [],
   "source": [
    "# Aggregate city-level cultural impact\n",
    "band_city_lookup = {band: city for city, bands in bands_by_city.items() for band in bands}\n",
    "band_averages = normalized_df.mean()\n",
    "city_scores = {}\n",
    "for band, score in band_averages.items():\n",
    "    city = band_city_lookup.get(band)\n",
    "    if city:\n",
    "        city_scores[city] = city_scores.get(city, 0) + score\n",
    "\n",
    "# Convert to DataFrame\n",
    "city_df = pd.DataFrame.from_dict(city_scores, orient='index', columns=['TotalSearchImpact'])\n",
    "city_df = city_df.sort_values('TotalSearchImpact', ascending=True)"
   ]
  },
  {
   "cell_type": "code",
   "execution_count": 60,
   "id": "3fb12a77",
   "metadata": {},
   "outputs": [
    {
     "data": {
      "image/png": "[encoded data removed]",
      "text/plain": [
       "<Figure size 1000x600 with 1 Axes>"
      ]
     },
     "metadata": {},
     "output_type": "display_data"
    }
   ],
   "source": [
    "# Plot city impact\n",
    "plt.figure(figsize=(10, 6))\n",
    "plt.barh(city_df.index, city_df['TotalSearchImpact'], color=\"gray\", edgecolor=\"none\")\n",
    "ax = plt.gca()\n",
    "for spine in ax.spines.values():\n",
    "    spine.set_visible(False)\n",
    "ax.tick_params(left=False, bottom=False)\n",
    "plt.xlabel(\"Aggregate Google Search Interest (Normalized)\")\n",
    "plt.title(\"Cultural Impact by City (Based on Band Popularity)\")\n",
    "plt.tight_layout()\n",
    "plt.show()"
   ]
  },
  {
   "cell_type": "markdown",
   "id": "c89a1214",
   "metadata": {},
   "source": [
    "## 🧠 Better Metrics for City Cultural Impact\n",
    "Because our search interest scores are normalized (not absolute), simple aggregation can misrepresent cultural impact.\n",
    "\n",
    "Instead, we use two smarter metrics:\n",
    "1. **Average Search Interest per City** – how strong a city's artists are on average\n",
    "2. **Top Band per City** – the single most searched band for each city"
   ]
  },
  {
   "cell_type": "code",
   "execution_count": 61,
   "id": "36d024f7",
   "metadata": {},
   "outputs": [],
   "source": [
    "# 🎯 Metric 1: Average search interest per city\n",
    "city_scores_avg = {}\n",
    "for band, score in band_averages.items():\n",
    "    city = band_city_lookup.get(band)\n",
    "    if city:\n",
    "        city_scores_avg.setdefault(city, []).append(score)\n",
    "\n",
    "city_avg_df = pd.DataFrame({\n",
    "    city: sum(scores) / len(scores)\n",
    "    for city, scores in city_scores_avg.items()\n",
    "}, index=[\"AvgSearchImpact\"]).T.sort_values(\"AvgSearchImpact\", ascending=True)"
   ]
  },
  {
   "cell_type": "code",
   "execution_count": 62,
   "id": "5b16c938",
   "metadata": {},
   "outputs": [
    {
     "data": {
      "image/png": "[encoded data removed]",
      "text/plain": [
       "<Figure size 1000x600 with 1 Axes>"
      ]
     },
     "metadata": {},
     "output_type": "display_data"
    }
   ],
   "source": [
    "# 📊 Plot average per city\n",
    "plt.figure(figsize=(10, 6))\n",
    "plt.barh(city_avg_df.index, city_avg_df['AvgSearchImpact'], color=\"gray\", edgecolor=\"none\")\n",
    "ax = plt.gca()\n",
    "for spine in ax.spines.values():\n",
    "    spine.set_visible(False)\n",
    "ax.tick_params(left=False, bottom=False)\n",
    "plt.xlabel(\"Avg. Google Search Interest (Normalized)\")\n",
    "plt.title(\"Average Cultural Impact per City (Google Search)\")\n",
    "plt.tight_layout()\n",
    "plt.show()"
   ]
  },
  {
   "cell_type": "code",
   "execution_count": 63,
   "id": "59721c06",
   "metadata": {},
   "outputs": [],
   "source": [
    "# 🎖️ Metric 2: Top band per city\n",
    "top_band_per_city = {}\n",
    "for band, city in band_city_lookup.items():\n",
    "    score = band_averages.get(band)\n",
    "    if score is not None:\n",
    "        current_top = top_band_per_city.get(city, (None, -1))\n",
    "        if score > current_top[1]:\n",
    "            top_band_per_city[city] = (band, score)\n",
    "\n",
    "top_band_df = pd.DataFrame(\n",
    "    [(city, band, score) for city, (band, score) in top_band_per_city.items()],\n",
    "    columns=[\"City\", \"Band\", \"SearchImpact\"]\n",
    ").sort_values(\"SearchImpact\", ascending=True)"
   ]
  },
  {
   "cell_type": "code",
   "execution_count": 64,
   "id": "42196291",
   "metadata": {},
   "outputs": [
    {
     "data": {
      "image/png": "[encoded data removed]",
      "text/plain": [
       "<Figure size 1000x600 with 1 Axes>"
      ]
     },
     "metadata": {},
     "output_type": "display_data"
    }
   ],
   "source": [
    "# 📊 Plot top band per city\n",
    "plt.figure(figsize=(10, 6))\n",
    "bars = plt.barh(top_band_df['City'], top_band_df['SearchImpact'], color=\"gray\", edgecolor=\"none\")\n",
    "for bar, band in zip(bars, top_band_df['Band']):\n",
    "    width = bar.get_width()\n",
    "    plt.text(width + 0.3, bar.get_y() + bar.get_height()/2, f\"{band} ({width:.1f})\", va='center')\n",
    "ax = plt.gca()\n",
    "for spine in ax.spines.values():\n",
    "    spine.set_visible(False)\n",
    "ax.tick_params(left=False, bottom=False)\n",
    "plt.xlabel(\"Search Interest (Normalized)\")\n",
    "plt.title(\"Top Band per City by Google Search Impact\")\n",
    "plt.tight_layout()\n",
    "plt.show()"
   ]
  },
  {
   "cell_type": "markdown",
   "id": "23d52337",
   "metadata": {},
   "source": [
    "## 📈 City Cultural Impact vs Population\n",
    "Does city size correlate with cultural influence through music?\n",
    "\n",
    "We compare each city's **average search interest** (from earlier) with its **population** using a scatterplot.\n",
    "\n",
    "> 🔍 Note: Normalized search interest means each band's scores are scaled relative to The Beatles' max UK interest. Still, since we're averaging across time, **bands with consistent long-term interest** may end up ranked higher than bands with one very high but brief spike — like The Beatles."
   ]
  },
  {
   "cell_type": "code",
   "execution_count": 65,
   "id": "2f533b84",
   "metadata": {},
   "outputs": [
    {
     "data": {
      "image/png": "[encoded data removed]",
      "text/plain": [
       "<Figure size 800x600 with 1 Axes>"
      ]
     },
     "metadata": {},
     "output_type": "display_data"
    }
   ],
   "source": [
    "# 📊 Scatterplot: Population vs Cultural Impact\n",
    "city_pop = {\n",
    "    \"London\": 9.65,\n",
    "    \"Birmingham\": 2.64,\n",
    "    \"Manchester\": 2.87,\n",
    "    \"Glasgow\": 1.65,\n",
    "    \"Liverpool\": 1.53,\n",
    "    \"Leeds\": 1.88,\n",
    "    \"Sheffield\": 1.57,\n",
    "    \"Bradford\": 1.40,\n",
    "    \"Bristol\": 0.72,\n",
    "    \"Nottingham\": 1.00\n",
    "}\n",
    "\n",
    "# Join population and cultural impact\n",
    "pop_series = pd.Series(city_pop)\n",
    "scatter_df = city_avg_df.join(pop_series.rename(\"Population\"), how=\"inner\")\n",
    "\n",
    "# Plot\n",
    "plt.figure(figsize=(8, 6))\n",
    "plt.scatter(scatter_df[\"Population\"], scatter_df[\"AvgSearchImpact\"], color=\"gray\", edgecolors=\"none\")\n",
    "\n",
    "# Add city labels\n",
    "for city, row in scatter_df.iterrows():\n",
    "    plt.text(row[\"Population\"] + 0.1, row[\"AvgSearchImpact\"], city, fontsize=9)\n",
    "\n",
    "# Style\n",
    "ax = plt.gca()\n",
    "for spine in ax.spines.values():\n",
    "    spine.set_visible(False)\n",
    "ax.tick_params(left=False, bottom=False)\n",
    "plt.xlabel(\"City Population (millions)\")\n",
    "plt.ylabel(\"Average Google Search Interest (Normalized)\")\n",
    "plt.title(\"Population vs Cultural Impact by City\")\n",
    "plt.tight_layout()\n",
    "plt.show()"
   ]
  },
  {
   "cell_type": "code",
   "execution_count": null,
   "id": "b5e49897",
   "metadata": {},
   "outputs": [],
   "source": []
  },
  {
   "cell_type": "code",
   "execution_count": null,
   "id": "74366074",
   "metadata": {},
   "outputs": [],
   "source": []
  }
 ],
 "metadata": {
  "kernelspec": {
   "display_name": "venv",
   "language": "python",
   "name": "python3"
  },
  "language_info": {
   "codemirror_mode": {
    "name": "ipython",
    "version": 3
   },
   "file_extension": ".py",
   "mimetype": "text/x-python",
   "name": "python",
   "nbconvert_exporter": "python",
   "pygments_lexer": "ipython3",
   "version": "3.13.1"
  }
 },
 "nbformat": 4,
 "nbformat_minor": 5
}
