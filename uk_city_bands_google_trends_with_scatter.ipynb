{
 "cells": [
  {
   "cell_type": "markdown",
   "id": "4f147b85",
   "metadata": {},
   "source": [
    "# 🎶 UK City Bands – Google Trends Analysis (2019–2024)\n",
    "This notebook explores search interest in key UK bands by city of origin, using Google Trends data from the past 5 years. Each band's popularity is normalized using **The Beatles** as a reference anchor.\n",
    "\n",
    "Cities included: London, Birmingham, Manchester, Glasgow, Liverpool, Leeds, Sheffield, Bradford, Bristol, Nottingham."
   ]
  },
  {
   "cell_type": "code",
   "execution_count": null,
   "id": "2a31bf74",
   "metadata": {},
   "outputs": [],
   "source": [
    "from pytrends.request import TrendReq\n",
    "import pandas as pd\n",
    "import time\n",
    "import matplotlib.pyplot as plt"
   ]
  },
  {
   "cell_type": "code",
   "execution_count": null,
   "id": "8bda9276",
   "metadata": {},
   "outputs": [],
   "source": [
    "# 🔁 Extract band list from city dictionary\n",
    "bands_by_city = {\n",
    "    \"London\": [\"The Rolling Stones\", \"The Clash\", \"Blur\", \"Coldplay\", \"Florence and the Machine\"],\n",
    "    \"Birmingham\": [\"Black Sabbath\", \"ELO\", \"Duran Duran\", \"UB40\", \"Editors\"],\n",
    "    \"Manchester\": [\"Oasis\", \"The Smiths\", \"New Order\", \"The Stone Roses\", \"The 1975\"],\n",
    "    \"Glasgow\": [\"Simple Minds\", \"Primal Scream\", \"Belle and Sebastian\", \"Franz Ferdinand\", \"CHVRCHES\"],\n",
    "    \"Liverpool\": [\"The Beatles\", \"Echo & the Bunnymen\", \"Frankie Goes to Hollywood\", \"The La's\", \"The Wombats\"],\n",
    "    \"Leeds\": [\"Kaiser Chiefs\", \"Soft Cell\", \"Alt-J\", \"Sisters of Mercy\", \"The Wedding Present\"],\n",
    "    \"Sheffield\": [\"Def Leppard\", \"The Human League\", \"Pulp\", \"Arctic Monkeys\", \"Bring Me The Horizon\"],\n",
    "    \"Bradford\": [\"Smokie\", \"Tasmin Archer\", \"Kiki Dee\", \"Ivyrise\", \"The Cult\"],\n",
    "    \"Bristol\": [\"Massive Attack\", \"Portishead\", \"Tricky\", \"Idles\", \"Kosheen\"],\n",
    "    \"Nottingham\": [\"Jake Bugg\", \"Dog Is Dead\", \"London Grammar\", \"Ten Years After\", \"Sleaford Mods\"]\n",
    "}\n",
    "all_bands = sorted(set(b for bands in bands_by_city.values() for b in bands))"
   ]
  },
  {
   "cell_type": "code",
   "execution_count": null,
   "id": "e621c3aa",
   "metadata": {},
   "outputs": [],
   "source": [
    "# 🔍 Google Trends collection\n",
    "anchor = \"The Beatles\"\n",
    "batch_size = 4\n",
    "batched_data = []\n",
    "pytrends = TrendReq(hl='en-GB', tz=0)\n",
    "\n",
    "for i in range(0, len(all_bands), batch_size):\n",
    "    batch = all_bands[i:i + batch_size]\n",
    "    if anchor not in batch:\n",
    "        batch = [anchor] + batch\n",
    "    else:\n",
    "        batch = batch[:5]\n",
    "\n",
    "    pytrends.build_payload(batch, timeframe=\"today 5-y\", geo=\"GB\")\n",
    "    df = pytrends.interest_over_time()\n",
    "    if not df.empty:\n",
    "        df = df.drop(columns=\"isPartial\")\n",
    "        batched_data.append(df)\n",
    "    time.sleep(1)"
   ]
  },
  {
   "cell_type": "code",
   "execution_count": null,
   "id": "bda0b5d6",
   "metadata": {},
   "outputs": [],
   "source": [
    "# 🧬 Normalize and save\n",
    "merged_df = pd.concat(batched_data, axis=1)\n",
    "merged_df = merged_df.loc[:, ~merged_df.columns.duplicated()]\n",
    "anchor_max = merged_df[anchor].max()\n",
    "normalized_df = merged_df.div(merged_df[anchor], axis=0).multiply(anchor_max)\n",
    "normalized_df.to_csv(\"google_trends_band_interest.csv\")"
   ]
  },
  {
   "cell_type": "code",
   "execution_count": null,
   "id": "0dd7aa0c",
   "metadata": {},
   "outputs": [],
   "source": [
    "# 📊 Top 20 bands\n",
    "top_20 = normalized_df.mean().sort_values(ascending=False).head(20)\n",
    "plt.figure(figsize=(10, 6))\n",
    "plt.barh(top_20.index[::-1], top_20.values[::-1], color=\"gray\", edgecolor=\"none\")\n",
    "ax = plt.gca()\n",
    "for spine in ax.spines.values():\n",
    "    spine.set_visible(False)\n",
    "ax.tick_params(left=False, bottom=False)\n",
    "plt.xlabel(\"Avg. Google Search Interest (Normalized)\")\n",
    "plt.title(\"Top 20 UK Bands by Google Search (5-Year Avg, UK)\")\n",
    "plt.tight_layout()\n",
    "plt.show()"
   ]
  },
  {
   "cell_type": "markdown",
   "id": "fc6d0070",
   "metadata": {},
   "source": [
    "## 🌍 Global Interest Chart\n",
    "In addition to UK-only interest, this chart shows **global average search interest** over the past 5 years."
   ]
  },
  {
   "cell_type": "code",
   "execution_count": null,
   "id": "88af4d32",
   "metadata": {},
   "outputs": [],
   "source": [
    "# Re-fetch using WORLDWIDE instead of GB\n",
    "global_batched_data = []\n",
    "for i in range(0, len(all_bands), batch_size):\n",
    "    batch = all_bands[i:i + batch_size]\n",
    "    if anchor not in batch:\n",
    "        batch = [anchor] + batch\n",
    "    else:\n",
    "        batch = batch[:5]\n",
    "\n",
    "    pytrends.build_payload(batch, timeframe=\"today 5-y\", geo=\"\")  # No geo = worldwide\n",
    "    df = pytrends.interest_over_time()\n",
    "    if not df.empty:\n",
    "        df = df.drop(columns=\"isPartial\")\n",
    "        global_batched_data.append(df)\n",
    "    time.sleep(1)\n",
    "\n",
    "# Merge and normalize\n",
    "global_df = pd.concat(global_batched_data, axis=1)\n",
    "global_df = global_df.loc[:, ~global_df.columns.duplicated()]\n",
    "anchor_max = global_df[anchor].max()\n",
    "normalized_global = global_df.div(global_df[anchor], axis=0).multiply(anchor_max)\n",
    "normalized_global.to_csv(\"google_trends_global_band_interest.csv\")"
   ]
  },
  {
   "cell_type": "code",
   "execution_count": null,
   "id": "ada985b7",
   "metadata": {},
   "outputs": [],
   "source": [
    "# Plot top 20 globally\n",
    "top_20_global = normalized_global.mean().sort_values(ascending=False).head(20)\n",
    "plt.figure(figsize=(10, 6))\n",
    "plt.barh(top_20_global.index[::-1], top_20_global.values[::-1], color=\"gray\", edgecolor=\"none\")\n",
    "ax = plt.gca()\n",
    "for spine in ax.spines.values():\n",
    "    spine.set_visible(False)\n",
    "ax.tick_params(left=False, bottom=False)\n",
    "plt.xlabel(\"Avg. Global Google Search Interest (Normalized)\")\n",
    "plt.title(\"Top 20 UK Bands by Global Search (5-Year Avg)\")\n",
    "plt.tight_layout()\n",
    "plt.show()"
   ]
  },
  {
   "cell_type": "markdown",
   "id": "84eecc1a",
   "metadata": {},
   "source": [
    "## 🏙️ Cultural Impact by City (Google Search Interest)\n",
    "We've been looking at bands individually, but the original question was: **which UK cities have the biggest cultural impact through music?**\n",
    "\n",
    "To answer that, we now aggregate normalized search interest by city, using the band–city mapping. This gives us a total cultural 'footprint' based on the popularity of each city's artists across the UK."
   ]
  },
  {
   "cell_type": "code",
   "execution_count": null,
   "id": "d8e57389",
   "metadata": {},
   "outputs": [],
   "source": [
    "# Aggregate city-level cultural impact\n",
    "band_city_lookup = {band: city for city, bands in bands_by_city.items() for band in bands}\n",
    "band_averages = normalized_df.mean()\n",
    "city_scores = {}\n",
    "for band, score in band_averages.items():\n",
    "    city = band_city_lookup.get(band)\n",
    "    if city:\n",
    "        city_scores[city] = city_scores.get(city, 0) + score\n",
    "\n",
    "# Convert to DataFrame\n",
    "city_df = pd.DataFrame.from_dict(city_scores, orient='index', columns=['TotalSearchImpact'])\n",
    "city_df = city_df.sort_values('TotalSearchImpact', ascending=True)"
   ]
  },
  {
   "cell_type": "code",
   "execution_count": null,
   "id": "3fb12a77",
   "metadata": {},
   "outputs": [],
   "source": [
    "# Plot city impact\n",
    "plt.figure(figsize=(10, 6))\n",
    "plt.barh(city_df.index, city_df['TotalSearchImpact'], color=\"gray\", edgecolor=\"none\")\n",
    "ax = plt.gca()\n",
    "for spine in ax.spines.values():\n",
    "    spine.set_visible(False)\n",
    "ax.tick_params(left=False, bottom=False)\n",
    "plt.xlabel(\"Aggregate Google Search Interest (Normalized)\")\n",
    "plt.title(\"Cultural Impact by City (Based on Band Popularity)\")\n",
    "plt.tight_layout()\n",
    "plt.show()"
   ]
  },
  {
   "cell_type": "markdown",
   "id": "c89a1214",
   "metadata": {},
   "source": [
    "## 🧠 Better Metrics for City Cultural Impact\n",
    "Because our search interest scores are normalized (not absolute), simple aggregation can misrepresent cultural impact.\n",
    "\n",
    "Instead, we use two smarter metrics:\n",
    "1. **Average Search Interest per City** – how strong a city's artists are on average\n",
    "2. **Top Band per City** – the single most searched band for each city"
   ]
  },
  {
   "cell_type": "code",
   "execution_count": null,
   "id": "36d024f7",
   "metadata": {},
   "outputs": [],
   "source": [
    "# 🎯 Metric 1: Average search interest per city\n",
    "city_scores_avg = {}\n",
    "for band, score in band_averages.items():\n",
    "    city = band_city_lookup.get(band)\n",
    "    if city:\n",
    "        city_scores_avg.setdefault(city, []).append(score)\n",
    "\n",
    "city_avg_df = pd.DataFrame({\n",
    "    city: sum(scores) / len(scores)\n",
    "    for city, scores in city_scores_avg.items()\n",
    "}, index=[\"AvgSearchImpact\"]).T.sort_values(\"AvgSearchImpact\", ascending=True)"
   ]
  },
  {
   "cell_type": "code",
   "execution_count": null,
   "id": "5b16c938",
   "metadata": {},
   "outputs": [],
   "source": [
    "# 📊 Plot average per city\n",
    "plt.figure(figsize=(10, 6))\n",
    "plt.barh(city_avg_df.index, city_avg_df['AvgSearchImpact'], color=\"gray\", edgecolor=\"none\")\n",
    "ax = plt.gca()\n",
    "for spine in ax.spines.values():\n",
    "    spine.set_visible(False)\n",
    "ax.tick_params(left=False, bottom=False)\n",
    "plt.xlabel(\"Avg. Google Search Interest (Normalized)\")\n",
    "plt.title(\"Average Cultural Impact per City (Google Search)\")\n",
    "plt.tight_layout()\n",
    "plt.show()"
   ]
  },
  {
   "cell_type": "code",
   "execution_count": null,
   "id": "59721c06",
   "metadata": {},
   "outputs": [],
   "source": [
    "# 🎖️ Metric 2: Top band per city\n",
    "top_band_per_city = {}\n",
    "for band, city in band_city_lookup.items():\n",
    "    score = band_averages.get(band)\n",
    "    if score is not None:\n",
    "        current_top = top_band_per_city.get(city, (None, -1))\n",
    "        if score > current_top[1]:\n",
    "            top_band_per_city[city] = (band, score)\n",
    "\n",
    "top_band_df = pd.DataFrame(\n",
    "    [(city, band, score) for city, (band, score) in top_band_per_city.items()],\n",
    "    columns=[\"City\", \"Band\", \"SearchImpact\"]\n",
    ").sort_values(\"SearchImpact\", ascending=True)"
   ]
  },
  {
   "cell_type": "code",
   "execution_count": null,
   "id": "42196291",
   "metadata": {},
   "outputs": [],
   "source": [
    "# 📊 Plot top band per city\n",
    "plt.figure(figsize=(10, 6))\n",
    "bars = plt.barh(top_band_df['City'], top_band_df['SearchImpact'], color=\"gray\", edgecolor=\"none\")\n",
    "for bar, band in zip(bars, top_band_df['Band']):\n",
    "    width = bar.get_width()\n",
    "    plt.text(width + 0.3, bar.get_y() + bar.get_height()/2, f\"{band} ({width:.1f})\", va='center')\n",
    "ax = plt.gca()\n",
    "for spine in ax.spines.values():\n",
    "    spine.set_visible(False)\n",
    "ax.tick_params(left=False, bottom=False)\n",
    "plt.xlabel(\"Search Interest (Normalized)\")\n",
    "plt.title(\"Top Band per City by Google Search Impact\")\n",
    "plt.tight_layout()\n",
    "plt.show()"
   ]
  },
  {
   "cell_type": "markdown",
   "id": "23d52337",
   "metadata": {},
   "source": [
    "## 📈 City Cultural Impact vs Population\n",
    "Does city size correlate with cultural influence through music?\n",
    "\n",
    "We compare each city's **average search interest** (from earlier) with its **population** using a scatterplot.\n",
    "\n",
    "> 🔍 Note: Normalized search interest means each band's scores are scaled relative to The Beatles' max UK interest. Still, since we're averaging across time, **bands with consistent long-term interest** may end up ranked higher than bands with one very high but brief spike — like The Beatles."
   ]
  },
  {
   "cell_type": "code",
   "execution_count": null,
   "id": "2f533b84",
   "metadata": {},
   "outputs": [],
   "source": [
    "# 📊 Scatterplot: Population vs Cultural Impact\n",
    "city_pop = {\n",
    "    \"London\": 9.65,\n",
    "    \"Birmingham\": 2.64,\n",
    "    \"Manchester\": 2.87,\n",
    "    \"Glasgow\": 1.65,\n",
    "    \"Liverpool\": 1.53,\n",
    "    \"Leeds\": 1.88,\n",
    "    \"Sheffield\": 1.57,\n",
    "    \"Bradford\": 1.40,\n",
    "    \"Bristol\": 0.72,\n",
    "    \"Nottingham\": 1.00\n",
    "}\n",
    "\n",
    "# Join population and cultural impact\n",
    "pop_series = pd.Series(city_pop)\n",
    "scatter_df = city_avg_df.join(pop_series.rename(\"Population\"), how=\"inner\")\n",
    "\n",
    "# Plot\n",
    "plt.figure(figsize=(8, 6))\n",
    "plt.scatter(scatter_df[\"Population\"], scatter_df[\"AvgSearchImpact\"], color=\"gray\", edgecolors=\"none\")\n",
    "\n",
    "# Add city labels\n",
    "for city, row in scatter_df.iterrows():\n",
    "    plt.text(row[\"Population\"] + 0.1, row[\"AvgSearchImpact\"], city, fontsize=9)\n",
    "\n",
    "# Style\n",
    "ax = plt.gca()\n",
    "for spine in ax.spines.values():\n",
    "    spine.set_visible(False)\n",
    "ax.tick_params(left=False, bottom=False)\n",
    "plt.xlabel(\"City Population (millions)\")\n",
    "plt.ylabel(\"Average Google Search Interest (Normalized)\")\n",
    "plt.title(\"Population vs Cultural Impact by City\")\n",
    "plt.tight_layout()\n",
    "plt.show()"
   ]
  }
 ],
 "metadata": {},
 "nbformat": 4,
 "nbformat_minor": 5
}
